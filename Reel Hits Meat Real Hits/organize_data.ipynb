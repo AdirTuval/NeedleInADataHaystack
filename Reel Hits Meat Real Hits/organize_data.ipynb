{
 "cells": [
  {
   "metadata": {
    "ExecuteTime": {
     "end_time": "2025-08-25T18:36:28.967384Z",
     "start_time": "2025-08-25T18:36:28.955838Z"
    }
   },
   "cell_type": "code",
   "source": "# Reel Hits",
   "id": "903568f8aa500dc5",
   "outputs": [],
   "execution_count": 99
  },
  {
   "metadata": {
    "ExecuteTime": {
     "end_time": "2025-08-25T18:36:29.280556Z",
     "start_time": "2025-08-25T18:36:29.001024Z"
    }
   },
   "cell_type": "code",
   "source": [
    "import datetime\n",
    "import spotipy\n",
    "import os\n",
    "import pandas as pd\n",
    "from spotipy.oauth2 import SpotifyClientCredentials\n",
    "from rapidfuzz import fuzz\n",
    "from dotenv import load_dotenv\n",
    "from typing import Union\n",
    "\n",
    "load_dotenv()\n",
    "\n",
    "cred_manager = SpotifyClientCredentials(client_id=os.getenv(\"SPOTIFY_CLIENT_ID\"),\n",
    "                                        client_secret=os.getenv(\"SPOTIFY_CLIENT_SECRET\"))\n",
    "sp = spotipy.Spotify(client_credentials_manager=cred_manager,\n",
    "                     requests_timeout=15, retries=3, status_forcelist=(429, 500, 502, 503, 504))"
   ],
   "id": "c9fd92665cb1925b",
   "outputs": [],
   "execution_count": 100
  },
  {
   "metadata": {
    "ExecuteTime": {
     "end_time": "2025-08-25T18:36:29.310718Z",
     "start_time": "2025-08-25T18:36:29.300166Z"
    }
   },
   "cell_type": "code",
   "source": [
    "SOUNDTRACK_HINTS = (\"soundtrack\", \"original motion picture\", \"music from the motion picture\", \"original score\", \"ost\")\n",
    "\n",
    "def candidate_queries(title: str, year: Union[int, None]):\n",
    "    base = [f'album:\"{title}\"', f'{title} soundtrack', f'album:\"{title} Original Motion Picture Soundtrack\"',\n",
    "            f'album:\"{title} Original Score\"', f'album:\"{title} Music From the Motion Picture\"']\n",
    "    if year:\n",
    "        base += [f'album:\"{title}\" year:{year}', f'{title} year:{year} soundtrack']\n",
    "    return base"
   ],
   "id": "2135fd1986c26bac",
   "outputs": [],
   "execution_count": 101
  },
  {
   "metadata": {
    "ExecuteTime": {
     "end_time": "2025-08-25T18:36:29.342283Z",
     "start_time": "2025-08-25T18:36:29.327176Z"
    }
   },
   "cell_type": "code",
   "source": [
    "def album_release_year(album):\n",
    "    # 'release_date' can be \"YYYY\" or \"YYYY-MM-DD\"\n",
    "    rd = album.get('release_date')\n",
    "    if not rd: return None\n",
    "    try:\n",
    "        return datetime.date.fromisoformat(rd).year\n",
    "    except:\n",
    "        try: return int(rd[:4])\n",
    "        except: return None"
   ],
   "id": "28c13307877d9f5b",
   "outputs": [],
   "execution_count": 102
  },
  {
   "metadata": {
    "ExecuteTime": {
     "end_time": "2025-08-25T18:36:29.358317Z",
     "start_time": "2025-08-25T18:36:29.349989Z"
    }
   },
   "cell_type": "code",
   "source": [
    "def heuristic_score(album, movie_title, movie_year):\n",
    "    name = album.get('name', '')\n",
    "    # Title similarity (robust to parentheses)\n",
    "    title_sim = fuzz.token_set_ratio(movie_title, name)\n",
    "    # Hints\n",
    "    hint_bonus = 15 if any(h in name.lower() for h in SOUNDTRACK_HINTS) else 0\n",
    "    # Year proximity\n",
    "    ay = album_release_year(album)\n",
    "    year_bonus = 0\n",
    "    if movie_year and ay:\n",
    "        diff = abs(ay - movie_year)\n",
    "        year_bonus = 12 if diff <= 1 else 6 if diff == 2 else 0\n",
    "    return title_sim + hint_bonus + year_bonus"
   ],
   "id": "c67635a87a3b1488",
   "outputs": [],
   "execution_count": 103
  },
  {
   "metadata": {
    "ExecuteTime": {
     "end_time": "2025-08-25T18:36:29.373817Z",
     "start_time": "2025-08-25T18:36:29.367303Z"
    }
   },
   "cell_type": "code",
   "source": [
    "def find_best_soundtrack_album(title, year):\n",
    "    tried = set()\n",
    "    best, best_score = None, -1\n",
    "\n",
    "    for q_title in [title]:\n",
    "        for q in candidate_queries(q_title, year):\n",
    "            if q in tried: continue\n",
    "            tried.add(q)\n",
    "            res = sp.search(q=q, type='album', limit=10)\n",
    "            for alb in res.get('albums', {}).get('items', []):\n",
    "                score = heuristic_score(alb, title, year)\n",
    "                if score > best_score:\n",
    "                    best, best_score = alb, score\n",
    "    return best, best_score\n"
   ],
   "id": "9ea120f88ca0248",
   "outputs": [],
   "execution_count": 104
  },
  {
   "metadata": {
    "ExecuteTime": {
     "end_time": "2025-08-25T18:36:29.404308Z",
     "start_time": "2025-08-25T18:36:29.381355Z"
    }
   },
   "cell_type": "code",
   "source": [
    "def get_album_popularity_metrics(album_id: str):\n",
    "    album = sp.album(album_id)\n",
    "    album_artists = {', '.join(a.get('name') for a in album.get('artists', []) if a.get('name'))}\n",
    "    pop_album = album.get('popularity')  # 0–100 (may be None rarely)\n",
    "    # Gather all tracks’ popularity\n",
    "    results = sp.album_tracks(album_id, limit=50)\n",
    "    items = results.get('items', [])\n",
    "    while results.get('next'):\n",
    "        results = sp.next(results)\n",
    "        items += results.get('items', [])\n",
    "\n",
    "    album_length_ms = sum(t.get('duration_ms') for t in items if t.get('duration_ms'))\n",
    "    album_length_min = album_length_ms / 60000\n",
    "    # Fetch track details in batches to get popularity\n",
    "    ids = [t['id'] for t in items if t.get('id')]\n",
    "    pop_list = []\n",
    "    for i in range(0, len(ids), 50):\n",
    "        batch = sp.tracks(ids[i:i+50]).get('tracks', [])\n",
    "        pop_list.extend([t.get('popularity') for t in batch if t and t.get('popularity') is not None])\n",
    "    if pop_list:\n",
    "        avg_track_pop = sum(pop_list) / len(pop_list)\n",
    "        sum_track_pop = sum(pop_list)\n",
    "    else:\n",
    "        avg_track_pop = None\n",
    "        sum_track_pop = None\n",
    "    return {\n",
    "        'album_popularity': pop_album,\n",
    "        'avg_track_popularity': avg_track_pop,\n",
    "        'sum_track_popularity': sum_track_pop,\n",
    "        'n_tracks': len(ids),\n",
    "        'album_length_ms': album_length_ms,\n",
    "        'album_length_min': album_length_min,\n",
    "        'album_artists': album_artists\n",
    "    }\n"
   ],
   "id": "b15504270a214f02",
   "outputs": [],
   "execution_count": 105
  },
  {
   "metadata": {
    "ExecuteTime": {
     "end_time": "2025-08-25T18:36:29.419789Z",
     "start_time": "2025-08-25T18:36:29.411907Z"
    }
   },
   "cell_type": "code",
   "source": [
    "def process_movie(tconst: str, title: str, year: int, revenue: float):\n",
    "\n",
    "    album, score = find_best_soundtrack_album(title, year)\n",
    "    if not album:\n",
    "        return {'tconst': tconst, 'title': title, 'year': year,\n",
    "                'revenue': revenue, 'spotify_album_id': None, 'match_score': None}\n",
    "\n",
    "    metrics = get_album_popularity_metrics(album['id'])\n",
    "    return {\n",
    "        'tconst': tconst,\n",
    "        'title': title,\n",
    "        'year': year,\n",
    "        'revenue': revenue,\n",
    "        'spotify_album_id': album['id'],\n",
    "        'spotify_album_name': album['name'],\n",
    "        'spotify_album_year': album_release_year(album),\n",
    "        'match_score': score,\n",
    "        **metrics\n",
    "    }\n"
   ],
   "id": "cd43b81b5d56033",
   "outputs": [],
   "execution_count": 106
  },
  {
   "metadata": {
    "ExecuteTime": {
     "end_time": "2025-08-25T18:36:29.544358Z",
     "start_time": "2025-08-25T18:36:29.429246Z"
    }
   },
   "cell_type": "code",
   "source": [
    "df = pd.read_csv(\"..\\\\data\\\\clean_tmdb.csv\")\n",
    "print(\"Loaded clean_tmdb.csv with shape:\", df.shape)\n",
    "\n",
    "df = df[(df['revenue'] > 0) & (df['release_date'].notna()) & (df['imdb_id'].notna()) & (df['title'].notna())]\n",
    "df = df[df['release_date'].apply(lambda x: datetime.date.fromisoformat(x).year if pd.notna(x) else None) >= 1990]\n",
    "df = df[df['original_language'] == 'en']\n",
    "df = df[(df['vote_average'] >= 7.0) & (df['vote_count'] >= 2000)]\n",
    "df = df[['imdb_id', 'title', 'release_date', 'revenue']]\n",
    "\n",
    "print(\"Filtered DataFrame shape:\", df.shape)\n",
    "\n",
    "results = []\n",
    "tuples = list(df.itertuples(index=False))\n",
    "from tqdm import tqdm\n",
    "for row in tqdm(tuples[:500]):\n",
    "    tconst, title, year, revenue = row.imdb_id, row.title, datetime.date.fromisoformat(row.release_date).year, float(row.revenue)\n",
    "    result = process_movie(tconst, title, year, revenue)\n",
    "    results.append(result)\n",
    "\n",
    "results_df = pd.DataFrame(results)\n",
    "print(results_df.head())\n",
    "results_df.to_csv(\"data\\\\reel_hits.csv\", index=False)"
   ],
   "id": "c7f5e22af92267df",
   "outputs": [
    {
     "ename": "FileNotFoundError",
     "evalue": "[Errno 2] No such file or directory: 'data\\\\clean_tmdb.csv'",
     "output_type": "error",
     "traceback": [
      "\u001B[1;31m---------------------------------------------------------------------------\u001B[0m",
      "\u001B[1;31mFileNotFoundError\u001B[0m                         Traceback (most recent call last)",
      "Cell \u001B[1;32mIn[107], line 1\u001B[0m\n\u001B[1;32m----> 1\u001B[0m df \u001B[38;5;241m=\u001B[39m \u001B[43mpd\u001B[49m\u001B[38;5;241;43m.\u001B[39;49m\u001B[43mread_csv\u001B[49m\u001B[43m(\u001B[49m\u001B[38;5;124;43m\"\u001B[39;49m\u001B[38;5;124;43mdata\u001B[39;49m\u001B[38;5;130;43;01m\\\\\u001B[39;49;00m\u001B[38;5;124;43mclean_tmdb.csv\u001B[39;49m\u001B[38;5;124;43m\"\u001B[39;49m\u001B[43m)\u001B[49m\n\u001B[0;32m      2\u001B[0m \u001B[38;5;28mprint\u001B[39m(\u001B[38;5;124m\"\u001B[39m\u001B[38;5;124mLoaded clean_tmdb.csv with shape:\u001B[39m\u001B[38;5;124m\"\u001B[39m, df\u001B[38;5;241m.\u001B[39mshape)\n\u001B[0;32m      4\u001B[0m df \u001B[38;5;241m=\u001B[39m df[(df[\u001B[38;5;124m'\u001B[39m\u001B[38;5;124mrevenue\u001B[39m\u001B[38;5;124m'\u001B[39m] \u001B[38;5;241m>\u001B[39m \u001B[38;5;241m0\u001B[39m) \u001B[38;5;241m&\u001B[39m (df[\u001B[38;5;124m'\u001B[39m\u001B[38;5;124mrelease_date\u001B[39m\u001B[38;5;124m'\u001B[39m]\u001B[38;5;241m.\u001B[39mnotna()) \u001B[38;5;241m&\u001B[39m (df[\u001B[38;5;124m'\u001B[39m\u001B[38;5;124mimdb_id\u001B[39m\u001B[38;5;124m'\u001B[39m]\u001B[38;5;241m.\u001B[39mnotna()) \u001B[38;5;241m&\u001B[39m (df[\u001B[38;5;124m'\u001B[39m\u001B[38;5;124mtitle\u001B[39m\u001B[38;5;124m'\u001B[39m]\u001B[38;5;241m.\u001B[39mnotna())]\n",
      "File \u001B[1;32m~\\AppData\\Local\\Packages\\PythonSoftwareFoundation.Python.3.9_qbz5n2kfra8p0\\LocalCache\\local-packages\\Python39\\site-packages\\pandas\\io\\parsers\\readers.py:1026\u001B[0m, in \u001B[0;36mread_csv\u001B[1;34m(filepath_or_buffer, sep, delimiter, header, names, index_col, usecols, dtype, engine, converters, true_values, false_values, skipinitialspace, skiprows, skipfooter, nrows, na_values, keep_default_na, na_filter, verbose, skip_blank_lines, parse_dates, infer_datetime_format, keep_date_col, date_parser, date_format, dayfirst, cache_dates, iterator, chunksize, compression, thousands, decimal, lineterminator, quotechar, quoting, doublequote, escapechar, comment, encoding, encoding_errors, dialect, on_bad_lines, delim_whitespace, low_memory, memory_map, float_precision, storage_options, dtype_backend)\u001B[0m\n\u001B[0;32m   1013\u001B[0m kwds_defaults \u001B[38;5;241m=\u001B[39m _refine_defaults_read(\n\u001B[0;32m   1014\u001B[0m     dialect,\n\u001B[0;32m   1015\u001B[0m     delimiter,\n\u001B[1;32m   (...)\u001B[0m\n\u001B[0;32m   1022\u001B[0m     dtype_backend\u001B[38;5;241m=\u001B[39mdtype_backend,\n\u001B[0;32m   1023\u001B[0m )\n\u001B[0;32m   1024\u001B[0m kwds\u001B[38;5;241m.\u001B[39mupdate(kwds_defaults)\n\u001B[1;32m-> 1026\u001B[0m \u001B[38;5;28;01mreturn\u001B[39;00m \u001B[43m_read\u001B[49m\u001B[43m(\u001B[49m\u001B[43mfilepath_or_buffer\u001B[49m\u001B[43m,\u001B[49m\u001B[43m \u001B[49m\u001B[43mkwds\u001B[49m\u001B[43m)\u001B[49m\n",
      "File \u001B[1;32m~\\AppData\\Local\\Packages\\PythonSoftwareFoundation.Python.3.9_qbz5n2kfra8p0\\LocalCache\\local-packages\\Python39\\site-packages\\pandas\\io\\parsers\\readers.py:620\u001B[0m, in \u001B[0;36m_read\u001B[1;34m(filepath_or_buffer, kwds)\u001B[0m\n\u001B[0;32m    617\u001B[0m _validate_names(kwds\u001B[38;5;241m.\u001B[39mget(\u001B[38;5;124m\"\u001B[39m\u001B[38;5;124mnames\u001B[39m\u001B[38;5;124m\"\u001B[39m, \u001B[38;5;28;01mNone\u001B[39;00m))\n\u001B[0;32m    619\u001B[0m \u001B[38;5;66;03m# Create the parser.\u001B[39;00m\n\u001B[1;32m--> 620\u001B[0m parser \u001B[38;5;241m=\u001B[39m TextFileReader(filepath_or_buffer, \u001B[38;5;241m*\u001B[39m\u001B[38;5;241m*\u001B[39mkwds)\n\u001B[0;32m    622\u001B[0m \u001B[38;5;28;01mif\u001B[39;00m chunksize \u001B[38;5;129;01mor\u001B[39;00m iterator:\n\u001B[0;32m    623\u001B[0m     \u001B[38;5;28;01mreturn\u001B[39;00m parser\n",
      "File \u001B[1;32m~\\AppData\\Local\\Packages\\PythonSoftwareFoundation.Python.3.9_qbz5n2kfra8p0\\LocalCache\\local-packages\\Python39\\site-packages\\pandas\\io\\parsers\\readers.py:1620\u001B[0m, in \u001B[0;36mTextFileReader.__init__\u001B[1;34m(self, f, engine, **kwds)\u001B[0m\n\u001B[0;32m   1617\u001B[0m     \u001B[38;5;28mself\u001B[39m\u001B[38;5;241m.\u001B[39moptions[\u001B[38;5;124m\"\u001B[39m\u001B[38;5;124mhas_index_names\u001B[39m\u001B[38;5;124m\"\u001B[39m] \u001B[38;5;241m=\u001B[39m kwds[\u001B[38;5;124m\"\u001B[39m\u001B[38;5;124mhas_index_names\u001B[39m\u001B[38;5;124m\"\u001B[39m]\n\u001B[0;32m   1619\u001B[0m \u001B[38;5;28mself\u001B[39m\u001B[38;5;241m.\u001B[39mhandles: IOHandles \u001B[38;5;241m|\u001B[39m \u001B[38;5;28;01mNone\u001B[39;00m \u001B[38;5;241m=\u001B[39m \u001B[38;5;28;01mNone\u001B[39;00m\n\u001B[1;32m-> 1620\u001B[0m \u001B[38;5;28mself\u001B[39m\u001B[38;5;241m.\u001B[39m_engine \u001B[38;5;241m=\u001B[39m \u001B[38;5;28;43mself\u001B[39;49m\u001B[38;5;241;43m.\u001B[39;49m\u001B[43m_make_engine\u001B[49m\u001B[43m(\u001B[49m\u001B[43mf\u001B[49m\u001B[43m,\u001B[49m\u001B[43m \u001B[49m\u001B[38;5;28;43mself\u001B[39;49m\u001B[38;5;241;43m.\u001B[39;49m\u001B[43mengine\u001B[49m\u001B[43m)\u001B[49m\n",
      "File \u001B[1;32m~\\AppData\\Local\\Packages\\PythonSoftwareFoundation.Python.3.9_qbz5n2kfra8p0\\LocalCache\\local-packages\\Python39\\site-packages\\pandas\\io\\parsers\\readers.py:1880\u001B[0m, in \u001B[0;36mTextFileReader._make_engine\u001B[1;34m(self, f, engine)\u001B[0m\n\u001B[0;32m   1878\u001B[0m     \u001B[38;5;28;01mif\u001B[39;00m \u001B[38;5;124m\"\u001B[39m\u001B[38;5;124mb\u001B[39m\u001B[38;5;124m\"\u001B[39m \u001B[38;5;129;01mnot\u001B[39;00m \u001B[38;5;129;01min\u001B[39;00m mode:\n\u001B[0;32m   1879\u001B[0m         mode \u001B[38;5;241m+\u001B[39m\u001B[38;5;241m=\u001B[39m \u001B[38;5;124m\"\u001B[39m\u001B[38;5;124mb\u001B[39m\u001B[38;5;124m\"\u001B[39m\n\u001B[1;32m-> 1880\u001B[0m \u001B[38;5;28mself\u001B[39m\u001B[38;5;241m.\u001B[39mhandles \u001B[38;5;241m=\u001B[39m \u001B[43mget_handle\u001B[49m\u001B[43m(\u001B[49m\n\u001B[0;32m   1881\u001B[0m \u001B[43m    \u001B[49m\u001B[43mf\u001B[49m\u001B[43m,\u001B[49m\n\u001B[0;32m   1882\u001B[0m \u001B[43m    \u001B[49m\u001B[43mmode\u001B[49m\u001B[43m,\u001B[49m\n\u001B[0;32m   1883\u001B[0m \u001B[43m    \u001B[49m\u001B[43mencoding\u001B[49m\u001B[38;5;241;43m=\u001B[39;49m\u001B[38;5;28;43mself\u001B[39;49m\u001B[38;5;241;43m.\u001B[39;49m\u001B[43moptions\u001B[49m\u001B[38;5;241;43m.\u001B[39;49m\u001B[43mget\u001B[49m\u001B[43m(\u001B[49m\u001B[38;5;124;43m\"\u001B[39;49m\u001B[38;5;124;43mencoding\u001B[39;49m\u001B[38;5;124;43m\"\u001B[39;49m\u001B[43m,\u001B[49m\u001B[43m \u001B[49m\u001B[38;5;28;43;01mNone\u001B[39;49;00m\u001B[43m)\u001B[49m\u001B[43m,\u001B[49m\n\u001B[0;32m   1884\u001B[0m \u001B[43m    \u001B[49m\u001B[43mcompression\u001B[49m\u001B[38;5;241;43m=\u001B[39;49m\u001B[38;5;28;43mself\u001B[39;49m\u001B[38;5;241;43m.\u001B[39;49m\u001B[43moptions\u001B[49m\u001B[38;5;241;43m.\u001B[39;49m\u001B[43mget\u001B[49m\u001B[43m(\u001B[49m\u001B[38;5;124;43m\"\u001B[39;49m\u001B[38;5;124;43mcompression\u001B[39;49m\u001B[38;5;124;43m\"\u001B[39;49m\u001B[43m,\u001B[49m\u001B[43m \u001B[49m\u001B[38;5;28;43;01mNone\u001B[39;49;00m\u001B[43m)\u001B[49m\u001B[43m,\u001B[49m\n\u001B[0;32m   1885\u001B[0m \u001B[43m    \u001B[49m\u001B[43mmemory_map\u001B[49m\u001B[38;5;241;43m=\u001B[39;49m\u001B[38;5;28;43mself\u001B[39;49m\u001B[38;5;241;43m.\u001B[39;49m\u001B[43moptions\u001B[49m\u001B[38;5;241;43m.\u001B[39;49m\u001B[43mget\u001B[49m\u001B[43m(\u001B[49m\u001B[38;5;124;43m\"\u001B[39;49m\u001B[38;5;124;43mmemory_map\u001B[39;49m\u001B[38;5;124;43m\"\u001B[39;49m\u001B[43m,\u001B[49m\u001B[43m \u001B[49m\u001B[38;5;28;43;01mFalse\u001B[39;49;00m\u001B[43m)\u001B[49m\u001B[43m,\u001B[49m\n\u001B[0;32m   1886\u001B[0m \u001B[43m    \u001B[49m\u001B[43mis_text\u001B[49m\u001B[38;5;241;43m=\u001B[39;49m\u001B[43mis_text\u001B[49m\u001B[43m,\u001B[49m\n\u001B[0;32m   1887\u001B[0m \u001B[43m    \u001B[49m\u001B[43merrors\u001B[49m\u001B[38;5;241;43m=\u001B[39;49m\u001B[38;5;28;43mself\u001B[39;49m\u001B[38;5;241;43m.\u001B[39;49m\u001B[43moptions\u001B[49m\u001B[38;5;241;43m.\u001B[39;49m\u001B[43mget\u001B[49m\u001B[43m(\u001B[49m\u001B[38;5;124;43m\"\u001B[39;49m\u001B[38;5;124;43mencoding_errors\u001B[39;49m\u001B[38;5;124;43m\"\u001B[39;49m\u001B[43m,\u001B[49m\u001B[43m \u001B[49m\u001B[38;5;124;43m\"\u001B[39;49m\u001B[38;5;124;43mstrict\u001B[39;49m\u001B[38;5;124;43m\"\u001B[39;49m\u001B[43m)\u001B[49m\u001B[43m,\u001B[49m\n\u001B[0;32m   1888\u001B[0m \u001B[43m    \u001B[49m\u001B[43mstorage_options\u001B[49m\u001B[38;5;241;43m=\u001B[39;49m\u001B[38;5;28;43mself\u001B[39;49m\u001B[38;5;241;43m.\u001B[39;49m\u001B[43moptions\u001B[49m\u001B[38;5;241;43m.\u001B[39;49m\u001B[43mget\u001B[49m\u001B[43m(\u001B[49m\u001B[38;5;124;43m\"\u001B[39;49m\u001B[38;5;124;43mstorage_options\u001B[39;49m\u001B[38;5;124;43m\"\u001B[39;49m\u001B[43m,\u001B[49m\u001B[43m \u001B[49m\u001B[38;5;28;43;01mNone\u001B[39;49;00m\u001B[43m)\u001B[49m\u001B[43m,\u001B[49m\n\u001B[0;32m   1889\u001B[0m \u001B[43m\u001B[49m\u001B[43m)\u001B[49m\n\u001B[0;32m   1890\u001B[0m \u001B[38;5;28;01massert\u001B[39;00m \u001B[38;5;28mself\u001B[39m\u001B[38;5;241m.\u001B[39mhandles \u001B[38;5;129;01mis\u001B[39;00m \u001B[38;5;129;01mnot\u001B[39;00m \u001B[38;5;28;01mNone\u001B[39;00m\n\u001B[0;32m   1891\u001B[0m f \u001B[38;5;241m=\u001B[39m \u001B[38;5;28mself\u001B[39m\u001B[38;5;241m.\u001B[39mhandles\u001B[38;5;241m.\u001B[39mhandle\n",
      "File \u001B[1;32m~\\AppData\\Local\\Packages\\PythonSoftwareFoundation.Python.3.9_qbz5n2kfra8p0\\LocalCache\\local-packages\\Python39\\site-packages\\pandas\\io\\common.py:873\u001B[0m, in \u001B[0;36mget_handle\u001B[1;34m(path_or_buf, mode, encoding, compression, memory_map, is_text, errors, storage_options)\u001B[0m\n\u001B[0;32m    868\u001B[0m \u001B[38;5;28;01melif\u001B[39;00m \u001B[38;5;28misinstance\u001B[39m(handle, \u001B[38;5;28mstr\u001B[39m):\n\u001B[0;32m    869\u001B[0m     \u001B[38;5;66;03m# Check whether the filename is to be opened in binary mode.\u001B[39;00m\n\u001B[0;32m    870\u001B[0m     \u001B[38;5;66;03m# Binary mode does not support 'encoding' and 'newline'.\u001B[39;00m\n\u001B[0;32m    871\u001B[0m     \u001B[38;5;28;01mif\u001B[39;00m ioargs\u001B[38;5;241m.\u001B[39mencoding \u001B[38;5;129;01mand\u001B[39;00m \u001B[38;5;124m\"\u001B[39m\u001B[38;5;124mb\u001B[39m\u001B[38;5;124m\"\u001B[39m \u001B[38;5;129;01mnot\u001B[39;00m \u001B[38;5;129;01min\u001B[39;00m ioargs\u001B[38;5;241m.\u001B[39mmode:\n\u001B[0;32m    872\u001B[0m         \u001B[38;5;66;03m# Encoding\u001B[39;00m\n\u001B[1;32m--> 873\u001B[0m         handle \u001B[38;5;241m=\u001B[39m \u001B[38;5;28;43mopen\u001B[39;49m\u001B[43m(\u001B[49m\n\u001B[0;32m    874\u001B[0m \u001B[43m            \u001B[49m\u001B[43mhandle\u001B[49m\u001B[43m,\u001B[49m\n\u001B[0;32m    875\u001B[0m \u001B[43m            \u001B[49m\u001B[43mioargs\u001B[49m\u001B[38;5;241;43m.\u001B[39;49m\u001B[43mmode\u001B[49m\u001B[43m,\u001B[49m\n\u001B[0;32m    876\u001B[0m \u001B[43m            \u001B[49m\u001B[43mencoding\u001B[49m\u001B[38;5;241;43m=\u001B[39;49m\u001B[43mioargs\u001B[49m\u001B[38;5;241;43m.\u001B[39;49m\u001B[43mencoding\u001B[49m\u001B[43m,\u001B[49m\n\u001B[0;32m    877\u001B[0m \u001B[43m            \u001B[49m\u001B[43merrors\u001B[49m\u001B[38;5;241;43m=\u001B[39;49m\u001B[43merrors\u001B[49m\u001B[43m,\u001B[49m\n\u001B[0;32m    878\u001B[0m \u001B[43m            \u001B[49m\u001B[43mnewline\u001B[49m\u001B[38;5;241;43m=\u001B[39;49m\u001B[38;5;124;43m\"\u001B[39;49m\u001B[38;5;124;43m\"\u001B[39;49m\u001B[43m,\u001B[49m\n\u001B[0;32m    879\u001B[0m \u001B[43m        \u001B[49m\u001B[43m)\u001B[49m\n\u001B[0;32m    880\u001B[0m     \u001B[38;5;28;01melse\u001B[39;00m:\n\u001B[0;32m    881\u001B[0m         \u001B[38;5;66;03m# Binary mode\u001B[39;00m\n\u001B[0;32m    882\u001B[0m         handle \u001B[38;5;241m=\u001B[39m \u001B[38;5;28mopen\u001B[39m(handle, ioargs\u001B[38;5;241m.\u001B[39mmode)\n",
      "\u001B[1;31mFileNotFoundError\u001B[0m: [Errno 2] No such file or directory: 'data\\\\clean_tmdb.csv'"
     ]
    }
   ],
   "execution_count": 107
  },
  {
   "metadata": {
    "ExecuteTime": {
     "end_time": "2025-08-25T18:36:29.559280500Z",
     "start_time": "2025-08-23T18:32:48.130347Z"
    }
   },
   "cell_type": "code",
   "source": [
    "metrics = get_album_popularity_metrics(\"37ddKI6C7HW9O1gX1gI0ei\")\n",
    "\n",
    "print(metrics)"
   ],
   "id": "ce6ec55ddb451cfd",
   "outputs": [
    {
     "name": "stdout",
     "output_type": "stream",
     "text": [
      "{'album_popularity': 22, 'avg_track_popularity': 14.4, 'sum_track_popularity': 144, 'n_tracks': 10}\n"
     ]
    }
   ],
   "execution_count": 123
  },
  {
   "metadata": {
    "ExecuteTime": {
     "end_time": "2025-08-25T18:36:29.561223400Z",
     "start_time": "2025-08-23T18:27:29.926174Z"
    }
   },
   "cell_type": "code",
   "source": [
    "row = tuples[539]\n",
    "tconst, title, year, revenue = row.imdb_id, row.title, datetime.date.fromisoformat(row.release_date).year, float(row.revenue)\n",
    "result = process_movie(tconst, title, year, revenue)\n",
    "print(result)"
   ],
   "id": "73eaff82fbbb5155",
   "outputs": [
    {
     "name": "stdout",
     "output_type": "stream",
     "text": [
      "{'tconst': 'tt1398426', 'title': 'Straight Outta Compton', 'year': 2015, 'revenue': 201634991.0, 'spotify_album_id': '1rMnLDmzyEBRiCj7yoGK2n', 'spotify_album_name': 'Straight Outta Compton (Music From The Motion Picture)', 'spotify_album_year': 2016, 'match_score': 127.0, 'album_popularity': 41, 'avg_track_popularity': 23.705882352941178, 'sum_track_popularity': 403, 'n_tracks': 17}\n"
     ]
    }
   ],
   "execution_count": 119
  },
  {
   "metadata": {
    "ExecuteTime": {
     "end_time": "2025-08-25T18:54:39.713358Z",
     "start_time": "2025-08-25T18:38:17.847046Z"
    }
   },
   "cell_type": "code",
   "source": [
    "df = pd.read_csv(\"..\\\\data\\\\clean_tmdb.csv\")\n",
    "print(\"Loaded clean_tmdb.csv with shape:\", df.shape)\n",
    "\n",
    "df = df[(df['revenue'] > 0) & (df['release_date'].notna()) & (df['imdb_id'].notna()) & (df['title'].notna())]\n",
    "df = df[df['release_date'].apply(lambda x: datetime.date.fromisoformat(x).year if pd.notna(x) else None) >= 1990]\n",
    "df = df[df['original_language'] == 'en']\n",
    "df = df[(df['vote_average'] < 7.0) & (df['vote_count'] >= 2000)]\n",
    "df = df[['imdb_id', 'title', 'release_date', 'revenue']]\n",
    "\n",
    "print(\"Filtered DataFrame shape:\", df.shape)\n",
    "\n",
    "results = []\n",
    "tuples = list(df.itertuples(index=False))\n",
    "from tqdm import tqdm\n",
    "for row in tqdm(tuples[:500]):\n",
    "    tconst, title, year, revenue = row.imdb_id, row.title, datetime.date.fromisoformat(row.release_date).year, float(row.revenue)\n",
    "    result = process_movie(tconst, title, year, revenue)\n",
    "    results.append(result)\n",
    "\n",
    "results_df = pd.DataFrame(results)\n",
    "print(results_df.head())\n",
    "results_df.to_csv(\"..\\\\data\\\\reel_hits_small.csv\", index=False)"
   ],
   "id": "ac603ab475cc15d",
   "outputs": [
    {
     "name": "stdout",
     "output_type": "stream",
     "text": [
      "Loaded clean_tmdb.csv with shape: (16013, 24)\n",
      "Filtered DataFrame shape: (1057, 4)\n"
     ]
    },
    {
     "name": "stderr",
     "output_type": "stream",
     "text": [
      " 58%|█████▊    | 291/500 [09:32<06:54,  1.98s/it]WARNING:root:Your application has reached a rate/request limit. Retry will occur after: None\n",
      "100%|██████████| 500/500 [16:21<00:00,  1.96s/it]"
     ]
    },
    {
     "name": "stdout",
     "output_type": "stream",
     "text": [
      "      tconst                               title  year       revenue  \\\n",
      "0  tt1300854                          Iron Man 3  2013  1.215577e+09   \n",
      "1  tt0458339  Captain America: The First Avenger  2011  3.705698e+08   \n",
      "2  tt1386697                       Suicide Squad  2016  7.468469e+08   \n",
      "3  tt0800369                                Thor  2011  4.493266e+08   \n",
      "4  tt1228705                          Iron Man 2  2010  6.239333e+08   \n",
      "\n",
      "         spotify_album_id                               spotify_album_name  \\\n",
      "0  7x6etI9jQ2ePxZUOQaPrbi  Iron Man 3 (Original Motion Picture Soundtrack)   \n",
      "1  0La1Tskamjd6akysepE8r5               Captain America: The First Avenger   \n",
      "2  0C8fz2LJQotVr0SZNta8H6    Suicide Squad (Original Motion Picture Score)   \n",
      "3  3OCSaoAx2IdkeUtd4T5cuS                                         Thor OST   \n",
      "4  6bnGdcfwPDRSkj6H8GcbAh         Original Motion Picture Score Iron Man 2   \n",
      "\n",
      "   spotify_album_year  match_score  album_popularity  avg_track_popularity  \\\n",
      "0                2013        127.0                45             23.450000   \n",
      "1                2011        112.0                41             20.923077   \n",
      "2                2016        127.0                18              5.433333   \n",
      "3                2011        127.0                22              8.041667   \n",
      "4                2010        127.0                30             14.840000   \n",
      "\n",
      "   sum_track_popularity  n_tracks  album_length_ms  album_length_min  \\\n",
      "0                   469        20          4547046         75.784100   \n",
      "1                   544        26          4281365         71.356083   \n",
      "2                   163        30          5628819         93.813650   \n",
      "3                   193        24          4323991         72.066517   \n",
      "4                   371        25          4334539         72.242317   \n",
      "\n",
      "       album_artists  \n",
      "0      {Brian Tyler}  \n",
      "1  {Various Artists}  \n",
      "2     {Steven Price}  \n",
      "3    {Patrick Doyle}  \n",
      "4      {John Debney}  \n"
     ]
    },
    {
     "name": "stderr",
     "output_type": "stream",
     "text": [
      "\n"
     ]
    }
   ],
   "execution_count": 113
  },
  {
   "metadata": {},
   "cell_type": "code",
   "outputs": [],
   "execution_count": null,
   "source": [
    "metrics = get_album_popularity_metrics(\"37ddKI6C7HW9O1gX1gI0ei\")\n",
    "\n",
    "print(metrics)"
   ],
   "id": "19dde79df0c4ef17"
  },
  {
   "metadata": {},
   "cell_type": "code",
   "outputs": [],
   "execution_count": null,
   "source": [
    "df = pd.read_csv(\"..\\\\data\\\\clean_tmdb.csv\")\n",
    "print(\"Loaded clean_tmdb.csv with shape:\", df.shape)\n",
    "\n",
    "df = df[(df['revenue'] > 0) & (df['release_date'].notna()) & (df['imdb_id'].notna()) & (df['title'].notna())]\n",
    "df = df[df['release_date'].apply(lambda x: datetime.date.fromisoformat(x).year if pd.notna(x) else None) >= 1990]\n",
    "df = df[df['original_language'] == 'en']\n",
    "df = df[(df['vote_average'] < 7.0) & (df['vote_count'] >= 2000)]\n",
    "df = df[['imdb_id', 'title', 'release_date', 'revenue']]\n",
    "\n",
    "print(\"Filtered DataFrame shape:\", df.shape)\n",
    "\n",
    "results = []\n",
    "tuples = list(df.itertuples(index=False))"
   ],
   "id": "23735026f7476e9f"
  },
  {
   "metadata": {},
   "cell_type": "code",
   "outputs": [],
   "execution_count": null,
   "source": [
    "row = tuples[500]\n",
    "tconst, title, year, revenue = row.imdb_id, row.title, datetime.date.fromisoformat(row.release_date).year, float(row.revenue)\n",
    "result = process_movie(tconst, title, year, revenue)\n",
    "print(result)"
   ],
   "id": "ba0551ca24c5bbda"
  }
 ],
 "metadata": {
  "kernelspec": {
   "name": "python3",
   "language": "python",
   "display_name": "Python 3 (ipykernel)"
  }
 },
 "nbformat": 4,
 "nbformat_minor": 5
}
