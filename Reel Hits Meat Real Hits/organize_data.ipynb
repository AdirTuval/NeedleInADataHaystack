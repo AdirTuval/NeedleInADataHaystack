{
 "cells": [
  {
   "metadata": {},
   "cell_type": "code",
   "outputs": [],
   "execution_count": null,
   "source": "# Reel Hits",
   "id": "903568f8aa500dc5"
  },
  {
   "metadata": {
    "ExecuteTime": {
     "end_time": "2025-08-25T13:12:33.030571Z",
     "start_time": "2025-08-25T13:12:28.260469Z"
    }
   },
   "cell_type": "code",
   "source": [
    "import datetime\n",
    "import spotipy\n",
    "import os\n",
    "import pandas as pd\n",
    "from spotipy.oauth2 import SpotifyClientCredentials\n",
    "from rapidfuzz import fuzz\n",
    "from dotenv import load_dotenv\n",
    "from typing import Union\n",
    "\n",
    "load_dotenv()\n",
    "\n",
    "cred_manager = SpotifyClientCredentials(client_id=os.getenv(\"SPOTIFY_CLIENT_ID\"),\n",
    "                                        client_secret=os.getenv(\"SPOTIFY_CLIENT_SECRET\"))\n",
    "sp = spotipy.Spotify(client_credentials_manager=cred_manager,\n",
    "                     requests_timeout=15, retries=3, status_forcelist=(429, 500, 502, 503, 504))"
   ],
   "id": "c9fd92665cb1925b",
   "outputs": [],
   "execution_count": 1
  },
  {
   "metadata": {
    "ExecuteTime": {
     "end_time": "2025-08-25T13:12:34.797126Z",
     "start_time": "2025-08-25T13:12:34.777985Z"
    }
   },
   "cell_type": "code",
   "source": [
    "SOUNDTRACK_HINTS = (\"soundtrack\", \"original motion picture\", \"music from the motion picture\", \"original score\", \"ost\")\n",
    "\n",
    "def candidate_queries(title: str, year: Union[int, None]):\n",
    "    base = [f'album:\"{title}\"', f'{title} soundtrack', f'album:\"{title} Original Motion Picture Soundtrack\"',\n",
    "            f'album:\"{title} Original Score\"', f'album:\"{title} Music From the Motion Picture\"']\n",
    "    if year:\n",
    "        base += [f'album:\"{title}\" year:{year}', f'{title} year:{year} soundtrack']\n",
    "    return base"
   ],
   "id": "2135fd1986c26bac",
   "outputs": [],
   "execution_count": 2
  },
  {
   "metadata": {
    "ExecuteTime": {
     "end_time": "2025-08-25T13:12:36.385365Z",
     "start_time": "2025-08-25T13:12:36.361579Z"
    }
   },
   "cell_type": "code",
   "source": [
    "def album_release_year(album):\n",
    "    # 'release_date' can be \"YYYY\" or \"YYYY-MM-DD\"\n",
    "    rd = album.get('release_date')\n",
    "    if not rd: return None\n",
    "    try:\n",
    "        return datetime.date.fromisoformat(rd).year\n",
    "    except:\n",
    "        try: return int(rd[:4])\n",
    "        except: return None"
   ],
   "id": "28c13307877d9f5b",
   "outputs": [],
   "execution_count": 3
  },
  {
   "metadata": {
    "ExecuteTime": {
     "end_time": "2025-08-25T13:12:37.403108Z",
     "start_time": "2025-08-25T13:12:37.379456Z"
    }
   },
   "cell_type": "code",
   "source": [
    "def heuristic_score(album, movie_title, movie_year):\n",
    "    name = album.get('name', '')\n",
    "    # Title similarity (robust to parentheses)\n",
    "    title_sim = fuzz.token_set_ratio(movie_title, name)\n",
    "    # Hints\n",
    "    hint_bonus = 15 if any(h in name.lower() for h in SOUNDTRACK_HINTS) else 0\n",
    "    # Year proximity\n",
    "    ay = album_release_year(album)\n",
    "    year_bonus = 0\n",
    "    if movie_year and ay:\n",
    "        diff = abs(ay - movie_year)\n",
    "        year_bonus = 12 if diff <= 1 else 6 if diff == 2 else 0\n",
    "    return title_sim + hint_bonus + year_bonus"
   ],
   "id": "c67635a87a3b1488",
   "outputs": [],
   "execution_count": 4
  },
  {
   "metadata": {
    "ExecuteTime": {
     "end_time": "2025-08-25T13:12:39.005342Z",
     "start_time": "2025-08-25T13:12:38.979183Z"
    }
   },
   "cell_type": "code",
   "source": [
    "def find_best_soundtrack_album(title, year):\n",
    "    tried = set()\n",
    "    best, best_score = None, -1\n",
    "\n",
    "    for q_title in [title]:\n",
    "        for q in candidate_queries(q_title, year):\n",
    "            if q in tried: continue\n",
    "            tried.add(q)\n",
    "            res = sp.search(q=q, type='album', limit=10)\n",
    "            for alb in res.get('albums', {}).get('items', []):\n",
    "                score = heuristic_score(alb, title, year)\n",
    "                if score > best_score:\n",
    "                    best, best_score = alb, score\n",
    "    return best, best_score\n"
   ],
   "id": "9ea120f88ca0248",
   "outputs": [],
   "execution_count": 5
  },
  {
   "metadata": {
    "ExecuteTime": {
     "end_time": "2025-08-25T13:12:41.031322Z",
     "start_time": "2025-08-25T13:12:41.001560Z"
    }
   },
   "cell_type": "code",
   "source": [
    "def get_album_popularity_metrics(album_id: str):\n",
    "    album = sp.album(album_id)\n",
    "    pop_album = album.get('popularity')  # 0–100 (may be None rarely)\n",
    "    tracks = []\n",
    "    # Gather all tracks’ popularity\n",
    "    results = sp.album_tracks(album_id, limit=50)\n",
    "    items = results.get('items', [])\n",
    "    while results.get('next'):\n",
    "        results = sp.next(results)\n",
    "        items += results.get('items', [])\n",
    "    # Fetch track details in batches to get popularity\n",
    "    ids = [t['id'] for t in items if t.get('id')]\n",
    "    pop_list = []\n",
    "    for i in range(0, len(ids), 50):\n",
    "        batch = sp.tracks(ids[i:i+50]).get('tracks', [])\n",
    "        pop_list.extend([t.get('popularity') for t in batch if t and t.get('popularity') is not None])\n",
    "    if pop_list:\n",
    "        avg_track_pop = sum(pop_list) / len(pop_list)\n",
    "        sum_track_pop = sum(pop_list)\n",
    "    else:\n",
    "        avg_track_pop = None\n",
    "        sum_track_pop = None\n",
    "    return {\n",
    "        'album_popularity': pop_album,\n",
    "        'avg_track_popularity': avg_track_pop,\n",
    "        'sum_track_popularity': sum_track_pop,\n",
    "        'n_tracks': len(ids),\n",
    "    }\n"
   ],
   "id": "b15504270a214f02",
   "outputs": [],
   "execution_count": 6
  },
  {
   "metadata": {
    "ExecuteTime": {
     "end_time": "2025-08-25T13:12:43.385114Z",
     "start_time": "2025-08-25T13:12:43.374471Z"
    }
   },
   "cell_type": "code",
   "source": [
    "def process_movie(tconst: str, title: str, year: int, revenue: float):\n",
    "\n",
    "    album, score = find_best_soundtrack_album(title, year)\n",
    "    if not album:\n",
    "        return {'tconst': tconst, 'title': title, 'year': year,\n",
    "                'revenue': revenue, 'spotify_album_id': None, 'match_score': None}\n",
    "\n",
    "    metrics = get_album_popularity_metrics(album['id'])\n",
    "    return {\n",
    "        'tconst': tconst,\n",
    "        'title': title,\n",
    "        'year': year,\n",
    "        'revenue': revenue,\n",
    "        'spotify_album_id': album['id'],\n",
    "        'spotify_album_name': album['name'],\n",
    "        'spotify_album_year': album_release_year(album),\n",
    "        'match_score': score,\n",
    "        **metrics\n",
    "    }\n"
   ],
   "id": "cd43b81b5d56033",
   "outputs": [],
   "execution_count": 7
  },
  {
   "metadata": {
    "ExecuteTime": {
     "end_time": "2025-08-23T14:22:55.878705Z",
     "start_time": "2025-08-23T14:04:29.875208Z"
    }
   },
   "cell_type": "code",
   "source": [
    "df = pd.read_csv(\"data\\\\clean_tmdb.csv\")\n",
    "print(\"Loaded clean_tmdb.csv with shape:\", df.shape)\n",
    "\n",
    "df = df[(df['revenue'] > 0) & (df['release_date'].notna()) & (df['imdb_id'].notna()) & (df['title'].notna())]\n",
    "df = df[df['release_date'].apply(lambda x: datetime.date.fromisoformat(x).year if pd.notna(x) else None) >= 1990]\n",
    "df = df[df['original_language'] == 'en']\n",
    "df = df[(df['vote_count'] >= 2000)]\n",
    "df = df[['imdb_id', 'title', 'release_date', 'revenue']]\n",
    "\n",
    "print(\"Filtered DataFrame shape:\", df.shape)\n",
    "\n",
    "results = []\n",
    "tuples = list(df.itertuples(index=False))\n",
    "from tqdm import tqdm\n",
    "for row in tqdm(tuples[:500]):\n",
    "    tconst, title, year, revenue = row.imdb_id, row.title, datetime.date.fromisoformat(row.release_date).year, float(row.revenue)\n",
    "    result = process_movie(tconst, title, year, revenue)\n",
    "    results.append(result)\n",
    "\n",
    "results_df = pd.DataFrame(results)\n",
    "print(results_df.head())\n",
    "results_df.to_csv(\"data\\\\reel_hits.csv\", index=False)"
   ],
   "id": "c7f5e22af92267df",
   "outputs": [
    {
     "name": "stdout",
     "output_type": "stream",
     "text": [
      "Loaded clean_tmdb.csv with shape: (16013, 24)\n",
      "Filtered DataFrame shape: (745, 4)\n"
     ]
    },
    {
     "name": "stderr",
     "output_type": "stream",
     "text": [
      "100%|██████████| 500/500 [18:25<00:00,  2.21s/it]"
     ]
    },
    {
     "name": "stdout",
     "output_type": "stream",
     "text": [
      "      tconst            title  year       revenue        spotify_album_id  \\\n",
      "0  tt1375666        Inception  2010  8.255328e+08  2qvA7HmSg1iM6XMiFF76dp   \n",
      "1  tt0816692     Interstellar  2014  7.017292e+08  3B61kSKTxlY36cYgzvf3cP   \n",
      "2  tt0468569  The Dark Knight  2008  1.004558e+09  63uFfOZpC7jrV7wfuBY2lX   \n",
      "3  tt0499549           Avatar  2009  2.923706e+09  2ca6dgorijp5LW4vuZCLJm   \n",
      "4  tt0848228     The Avengers  2012  1.518816e+09  3wvpIkfl4oOgZLMaQBWadf   \n",
      "\n",
      "                                  spotify_album_name  spotify_album_year  \\\n",
      "0          Inception (Music from the Motion Picture)                2010   \n",
      "1  Interstellar (Original Motion Picture Soundtra...                2014   \n",
      "2  The Dark Knight (Original Motion Picture Sound...                2008   \n",
      "3                   Avatar (Soundtrack for Trailers)                2018   \n",
      "4  The Avengers (Original Motion Picture Soundtrack)                2012   \n",
      "\n",
      "   match_score  album_popularity  avg_track_popularity  sum_track_popularity  \\\n",
      "0        127.0                63             46.416667                   557   \n",
      "1        127.0                71             52.733333                  1582   \n",
      "2        127.0                53             41.785714                   585   \n",
      "3        115.0                 2              2.200000                    11   \n",
      "4        127.0                51             25.611111                   461   \n",
      "\n",
      "   n_tracks  \n",
      "0        12  \n",
      "1        30  \n",
      "2        14  \n",
      "3         5  \n",
      "4        18  \n"
     ]
    },
    {
     "name": "stderr",
     "output_type": "stream",
     "text": [
      "\n"
     ]
    }
   ],
   "execution_count": 8
  },
  {
   "metadata": {
    "ExecuteTime": {
     "end_time": "2025-08-23T18:32:48.596456Z",
     "start_time": "2025-08-23T18:32:48.130347Z"
    }
   },
   "cell_type": "code",
   "source": [
    "metrics = get_album_popularity_metrics(\"37ddKI6C7HW9O1gX1gI0ei\")\n",
    "\n",
    "print(metrics)"
   ],
   "id": "ce6ec55ddb451cfd",
   "outputs": [
    {
     "name": "stdout",
     "output_type": "stream",
     "text": [
      "{'album_popularity': 22, 'avg_track_popularity': 14.4, 'sum_track_popularity': 144, 'n_tracks': 10}\n"
     ]
    }
   ],
   "execution_count": 123
  },
  {
   "metadata": {
    "ExecuteTime": {
     "end_time": "2025-08-23T18:27:31.795052Z",
     "start_time": "2025-08-23T18:27:29.926174Z"
    }
   },
   "cell_type": "code",
   "source": [
    "row = tuples[539]\n",
    "tconst, title, year, revenue = row.imdb_id, row.title, datetime.date.fromisoformat(row.release_date).year, float(row.revenue)\n",
    "result = process_movie(tconst, title, year, revenue)\n",
    "print(result)"
   ],
   "id": "73eaff82fbbb5155",
   "outputs": [
    {
     "name": "stdout",
     "output_type": "stream",
     "text": [
      "{'tconst': 'tt1398426', 'title': 'Straight Outta Compton', 'year': 2015, 'revenue': 201634991.0, 'spotify_album_id': '1rMnLDmzyEBRiCj7yoGK2n', 'spotify_album_name': 'Straight Outta Compton (Music From The Motion Picture)', 'spotify_album_year': 2016, 'match_score': 127.0, 'album_popularity': 41, 'avg_track_popularity': 23.705882352941178, 'sum_track_popularity': 403, 'n_tracks': 17}\n"
     ]
    }
   ],
   "execution_count": 119
  }
 ],
 "metadata": {
  "kernelspec": {
   "name": "python3",
   "language": "python",
   "display_name": "Python 3 (ipykernel)"
  }
 },
 "nbformat": 4,
 "nbformat_minor": 5
}
