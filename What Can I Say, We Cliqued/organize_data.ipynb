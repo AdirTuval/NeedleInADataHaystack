{
 "cells": [
  {
   "metadata": {},
   "cell_type": "code",
   "outputs": [],
   "execution_count": null,
   "source": "# We cliqued",
   "id": "64de6f9bce78640e"
  },
  {
   "metadata": {
    "ExecuteTime": {
     "end_time": "2025-08-21T15:10:42.272271Z",
     "start_time": "2025-08-21T15:05:34.750275Z"
    }
   },
   "cell_type": "code",
   "source": [
    "from datetime import datetime\n",
    "\n",
    "import pandas as pd\n",
    "\n",
    "# Load all the actors and directors from the names.basics file\n",
    "names_basics = pd.read_csv(\"../data/name.basics.tsv\", sep=\"\\t\", usecols=['nconst', 'primaryName', 'primaryProfession'])\n",
    "\n",
    "print(\"Successfully loaded names_basics with shape:\", names_basics.shape)\n",
    "\n",
    "# Load all the titles\n",
    "titles_basics = pd.read_csv(\"../data/title.basics.tsv\", sep=\"\\t\",\n",
    "                            usecols=['tconst', 'primaryTitle', 'startYear', 'titleType'], dtype=str)\n",
    "\n",
    "print(\"Successfully loaded titles_basics with shape:\", titles_basics.shape)\n",
    "\n",
    "# Load the alternative titles\n",
    "alternatives = pd.read_csv(\"../data/title.akas.tsv\", sep=\"\\t\", usecols=['titleId', 'region'], dtype=str)\n",
    "\n",
    "print(\"Successfully loaded alternatives with shape:\", alternatives.shape)\n",
    "\n",
    "\n",
    "# Load the title.principals file to get the relationships between titles and names\n",
    "titles_principals = pd.read_csv(\"../data/title.principals.tsv\", sep=\"\\t\",\n",
    "                                usecols=['tconst', 'nconst', 'category'], dtype=str)\n",
    "\n",
    "print(\"Successfully loaded titles_principals with shape:\", titles_principals.shape)\n",
    "\n",
    "# Load the ratings file to get the ratings for each title\n",
    "ratings = pd.read_csv(\"../data/title.ratings.tsv\", sep=\"\\t\", dtype=str)\n",
    "\n",
    "print(\"Successfully loaded ratings with shape:\", ratings.shape)"
   ],
   "id": "985bac147b805d8a",
   "outputs": [
    {
     "name": "stdout",
     "output_type": "stream",
     "text": [
      "Successfully loaded names_basics with shape: (14451516, 3)\n",
      "Successfully loaded titles_basics with shape: (11693908, 4)\n",
      "Successfully loaded alternatives with shape: (52769492, 2)\n",
      "Successfully loaded titles_principals with shape: (92874325, 3)\n",
      "Successfully loaded ratings with shape: (1574221, 3)\n"
     ]
    }
   ],
   "execution_count": 1
  },
  {
   "metadata": {
    "ExecuteTime": {
     "end_time": "2025-08-21T15:10:57.554841Z",
     "start_time": "2025-08-21T15:10:57.525230Z"
    }
   },
   "cell_type": "code",
   "source": [
    "def filter_datasets() -> None:\n",
    "    # Filter only actors and directors from names_basics\n",
    "    global names_basics, titles_basics, alternatives, titles_principals, ratings\n",
    "    names_basics = names_basics[names_basics['primaryProfession'].str.contains('actor|actress|director', na=False)]\n",
    "    # Keep only the necessary columns\n",
    "    names_basics = names_basics[['nconst', 'primaryName']]\n",
    "\n",
    "    print(\"Filtered names_basics with shape:\", names_basics.shape)\n",
    "\n",
    "    # Filter titles for movies only\n",
    "    titles_basics = titles_basics[titles_basics['titleType'] == 'movie']\n",
    "    # Filter for titles that have a start year and are from 1990 onwards\n",
    "    titles_basics = titles_basics[titles_basics['startYear'].str.isnumeric()]\n",
    "    titles_basics = titles_basics[titles_basics['startYear'].astype(int) >= 1990]\n",
    "    # Filter out titles with no primary title\n",
    "    titles_basics = titles_basics[titles_basics['primaryTitle'].notna()]\n",
    "    # Keep only the necessary columns\n",
    "    titles_basics = titles_basics[['tconst', 'primaryTitle']]\n",
    "\n",
    "    print(\"Filtered titles_basics with shape:\", titles_basics.shape)\n",
    "\n",
    "    # Filter only US movies\n",
    "    alternatives = alternatives[alternatives['region'] == 'US']\n",
    "    # Keep only the necessary columns and rename for consistency\n",
    "    alternatives = alternatives[['titleId']].rename(columns={'titleId': 'tconst'})\n",
    "\n",
    "    print(\"Filtered alternatives with shape:\", alternatives.shape)\n",
    "\n",
    "    # Filter for actors, actresses, and directors again, for consistency\n",
    "    titles_principals = titles_principals[titles_principals['category'].isin(['actor', 'actress', 'director'])]\n",
    "    # Keep only the necessary columns\n",
    "    titles_principals = titles_principals[['tconst', 'nconst']]\n",
    "\n",
    "    print(\"Filtered titles_principals with shape:\", titles_principals.shape)\n",
    "\n",
    "    # Filter out titles with a small amount of ratings\n",
    "    ratings = ratings[ratings['numVotes'].str.isnumeric()]\n",
    "    ratings = ratings[ratings['numVotes'].astype(int) > 1000]\n",
    "    # Filter out titles with a rating below 7.0\n",
    "    ratings = ratings[ratings['averageRating'].astype(float) >= 7.0]\n",
    "    ratings = ratings[['tconst']]\n",
    "\n",
    "    print(\"Filtered ratings with shape:\", ratings.shape)\n",
    "\n",
    "    print(\"All datasets filtered successfully.\")\n"
   ],
   "id": "941f2fcca194823f",
   "outputs": [],
   "execution_count": 4
  },
  {
   "metadata": {
    "ExecuteTime": {
     "end_time": "2025-08-21T15:11:00.393343Z",
     "start_time": "2025-08-21T15:11:00.376653Z"
    }
   },
   "cell_type": "code",
   "source": [
    "def create_best_collabs() -> None:\n",
    "    \"\"\"\n",
    "    Create a DataFrame containing the best collaborations between actors and directors based on the provided datasets.\n",
    "    :return: pd.DataFrame: A DataFrame with columns for title, name, and the actor or director associated with each title.\n",
    "    \"\"\"\n",
    "    filter_datasets()\n",
    "    # Merge the dataframes to get the names associated with each title and the actor or director for each title\n",
    "    merged_df = (titles_principals\n",
    "                 .merge(titles_basics, on=\"tconst\")\n",
    "                 .merge(ratings, on=\"tconst\")\n",
    "                 .merge(alternatives, on=\"tconst\")\n",
    "                 .merge(names_basics, on=\"nconst\", how=\"inner\")\n",
    "                 .drop_duplicates()\n",
    "                 .rename(columns={'primaryTitle': 'title', 'primaryName': 'name'}))\n",
    "    print(\"Merged with shape:\", merged_df.shape)\n",
    "    print(merged_df.head())\n",
    "    merged_df.to_csv(\"data\\\\collabs.csv\", index=False)\n"
   ],
   "id": "42ba30f11853e463",
   "outputs": [],
   "execution_count": 5
  }
 ],
 "metadata": {
  "kernelspec": {
   "name": "python3",
   "language": "python",
   "display_name": "Python 3 (ipykernel)"
  }
 },
 "nbformat": 4,
 "nbformat_minor": 5
}
