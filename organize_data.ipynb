{
 "cells": [
  {
   "metadata": {},
   "cell_type": "code",
   "outputs": [],
   "execution_count": null,
   "source": "# We cliqued",
   "id": "64de6f9bce78640e"
  },
  {
   "metadata": {
    "ExecuteTime": {
     "end_time": "2025-08-21T15:10:42.272271Z",
     "start_time": "2025-08-21T15:05:34.750275Z"
    }
   },
   "cell_type": "code",
   "source": [
    "from datetime import datetime\n",
    "\n",
    "import pandas as pd\n",
    "\n",
    "# Load all the actors and directors from the names.basics file\n",
    "names_basics = pd.read_csv(\"data\\\\name.basics.tsv\", sep=\"\\t\", usecols=['nconst', 'primaryName', 'primaryProfession'])\n",
    "\n",
    "print(\"Successfully loaded names_basics with shape:\", names_basics.shape)\n",
    "\n",
    "# Load all the titles\n",
    "titles_basics = pd.read_csv(\"data\\\\title.basics.tsv\", sep=\"\\t\",\n",
    "                            usecols=['tconst', 'primaryTitle', 'startYear', 'titleType'], dtype=str)\n",
    "\n",
    "print(\"Successfully loaded titles_basics with shape:\", titles_basics.shape)\n",
    "\n",
    "# Load the alternative titles\n",
    "alternatives = pd.read_csv(\"data\\\\title.akas.tsv\", sep=\"\\t\", usecols=['titleId', 'region'], dtype=str)\n",
    "\n",
    "print(\"Successfully loaded alternatives with shape:\", alternatives.shape)\n",
    "\n",
    "\n",
    "# Load the title.principals file to get the relationships between titles and names\n",
    "titles_principals = pd.read_csv(\"data\\\\title.principals.tsv\", sep=\"\\t\",\n",
    "                                usecols=['tconst', 'nconst', 'category'], dtype=str)\n",
    "\n",
    "print(\"Successfully loaded titles_principals with shape:\", titles_principals.shape)\n",
    "\n",
    "# Load the ratings file to get the ratings for each title\n",
    "ratings = pd.read_csv(\"data\\\\title.ratings.tsv\", sep=\"\\t\", dtype=str)\n",
    "\n",
    "print(\"Successfully loaded ratings with shape:\", ratings.shape)"
   ],
   "id": "985bac147b805d8a",
   "outputs": [
    {
     "name": "stdout",
     "output_type": "stream",
     "text": [
      "Successfully loaded names_basics with shape: (14451516, 3)\n",
      "Successfully loaded titles_basics with shape: (11693908, 4)\n",
      "Successfully loaded alternatives with shape: (52769492, 2)\n",
      "Successfully loaded titles_principals with shape: (92874325, 3)\n",
      "Successfully loaded ratings with shape: (1574221, 3)\n"
     ]
    }
   ],
   "execution_count": 1
  },
  {
   "metadata": {
    "ExecuteTime": {
     "end_time": "2025-08-21T15:10:57.554841Z",
     "start_time": "2025-08-21T15:10:57.525230Z"
    }
   },
   "cell_type": "code",
   "source": [
    "def filter_datasets() -> None:\n",
    "    # Filter only actors and directors from names_basics\n",
    "    global names_basics, titles_basics, alternatives, titles_principals, ratings\n",
    "    names_basics = names_basics[names_basics['primaryProfession'].str.contains('actor|actress|director', na=False)]\n",
    "    # Keep only the necessary columns\n",
    "    names_basics = names_basics[['nconst', 'primaryName']]\n",
    "\n",
    "    print(\"Filtered names_basics with shape:\", names_basics.shape)\n",
    "\n",
    "    # Filter titles for movies only\n",
    "    titles_basics = titles_basics[titles_basics['titleType'] == 'movie']\n",
    "    # Filter for titles that have a start year and are from 1990 onwards\n",
    "    titles_basics = titles_basics[titles_basics['startYear'].str.isnumeric()]\n",
    "    titles_basics = titles_basics[titles_basics['startYear'].astype(int) >= 1990]\n",
    "    # Filter out titles with no primary title\n",
    "    titles_basics = titles_basics[titles_basics['primaryTitle'].notna()]\n",
    "    # Keep only the necessary columns\n",
    "    titles_basics = titles_basics[['tconst', 'primaryTitle']]\n",
    "\n",
    "    print(\"Filtered titles_basics with shape:\", titles_basics.shape)\n",
    "\n",
    "    # Filter only US movies\n",
    "    alternatives = alternatives[alternatives['region'] == 'US']\n",
    "    # Keep only the necessary columns and rename for consistency\n",
    "    alternatives = alternatives[['titleId']].rename(columns={'titleId': 'tconst'})\n",
    "\n",
    "    print(\"Filtered alternatives with shape:\", alternatives.shape)\n",
    "\n",
    "    # Filter for actors, actresses, and directors again, for consistency\n",
    "    titles_principals = titles_principals[titles_principals['category'].isin(['actor', 'actress', 'director'])]\n",
    "    # Keep only the necessary columns\n",
    "    titles_principals = titles_principals[['tconst', 'nconst']]\n",
    "\n",
    "    print(\"Filtered titles_principals with shape:\", titles_principals.shape)\n",
    "\n",
    "    # Filter out titles with a small amount of ratings\n",
    "    ratings = ratings[ratings['numVotes'].str.isnumeric()]\n",
    "    ratings = ratings[ratings['numVotes'].astype(int) > 1000]\n",
    "    # Filter out titles with a rating below 7.0\n",
    "    ratings = ratings[ratings['averageRating'].astype(float) >= 7.0]\n",
    "    ratings = ratings[['tconst']]\n",
    "\n",
    "    print(\"Filtered ratings with shape:\", ratings.shape)\n",
    "\n",
    "    print(\"All datasets filtered successfully.\")\n"
   ],
   "id": "941f2fcca194823f",
   "outputs": [],
   "execution_count": 4
  },
  {
   "metadata": {
    "ExecuteTime": {
     "end_time": "2025-08-21T15:11:00.393343Z",
     "start_time": "2025-08-21T15:11:00.376653Z"
    }
   },
   "cell_type": "code",
   "source": [
    "def create_best_collabs() -> None:\n",
    "    \"\"\"\n",
    "    Create a DataFrame containing the best collaborations between actors and directors based on the provided datasets.\n",
    "    :return: pd.DataFrame: A DataFrame with columns for title, name, and the actor or director associated with each title.\n",
    "    \"\"\"\n",
    "    filter_datasets()\n",
    "    # Merge the dataframes to get the names associated with each title and the actor or director for each title\n",
    "    merged_df = (titles_principals\n",
    "                 .merge(titles_basics, on=\"tconst\")\n",
    "                 .merge(ratings, on=\"tconst\")\n",
    "                 .merge(alternatives, on=\"tconst\")\n",
    "                 .merge(names_basics, on=\"nconst\", how=\"inner\")\n",
    "                 .drop_duplicates()\n",
    "                 .rename(columns={'primaryTitle': 'title', 'primaryName': 'name'}))\n",
    "    print(\"Merged with shape:\", merged_df.shape)\n",
    "    print(merged_df.head())\n",
    "    merged_df.to_csv(\"data\\\\collabs.csv\", index=False)\n"
   ],
   "id": "42ba30f11853e463",
   "outputs": [],
   "execution_count": 5
  },
  {
   "metadata": {},
   "cell_type": "code",
   "outputs": [],
   "execution_count": null,
   "source": "# Reel Hits",
   "id": "903568f8aa500dc5"
  },
  {
   "metadata": {
    "ExecuteTime": {
     "end_time": "2025-08-23T14:04:16.284689Z",
     "start_time": "2025-08-23T14:04:12.163233Z"
    }
   },
   "cell_type": "code",
   "source": [
    "import pandas as pd\n",
    "import datetime\n",
    "import spotipy\n",
    "from spotipy.oauth2 import SpotifyClientCredentials\n",
    "from rapidfuzz import fuzz\n",
    "from typing import Union\n",
    "\n",
    "# cred_manager = SpotifyClientCredentials(client_id=\"4e94d32642be4f77a0475fbe167f4227\",\n",
    "#                                         client_secret=\"be41d0d7e3974ff495fbe0c63740823e\")\n",
    "cred_manager = SpotifyClientCredentials(client_id=\"b90a0f749dd94acaac32eeee3563993b\",\n",
    "                                        client_secret=\"649321ff996046b187e255fe8a9839d3\")\n",
    "sp = spotipy.Spotify(client_credentials_manager=cred_manager,\n",
    "                     requests_timeout=15, retries=3, status_forcelist=(429, 500, 502, 503, 504))"
   ],
   "id": "c9fd92665cb1925b",
   "outputs": [],
   "execution_count": 1
  },
  {
   "metadata": {
    "ExecuteTime": {
     "end_time": "2025-08-23T14:04:18.411115Z",
     "start_time": "2025-08-23T14:04:18.386769Z"
    }
   },
   "cell_type": "code",
   "source": [
    "SOUNDTRACK_HINTS = (\"soundtrack\", \"original motion picture\", \"music from the motion picture\", \"original score\", \"ost\")\n",
    "\n",
    "def candidate_queries(title: str, year: Union[int, None]):\n",
    "    base = [f'album:\"{title}\"', f'{title} soundtrack', f'album:\"{title} Original Motion Picture Soundtrack\"',\n",
    "            f'album:\"{title} Original Score\"', f'album:\"{title} Music From the Motion Picture\"']\n",
    "    if year:\n",
    "        base += [f'album:\"{title}\" year:{year}', f'{title} year:{year} soundtrack']\n",
    "    return base"
   ],
   "id": "2135fd1986c26bac",
   "outputs": [],
   "execution_count": 2
  },
  {
   "metadata": {
    "ExecuteTime": {
     "end_time": "2025-08-23T14:04:19.616878Z",
     "start_time": "2025-08-23T14:04:19.606668Z"
    }
   },
   "cell_type": "code",
   "source": [
    "def album_release_year(album):\n",
    "    # 'release_date' can be \"YYYY\" or \"YYYY-MM-DD\"\n",
    "    rd = album.get('release_date')\n",
    "    if not rd: return None\n",
    "    try:\n",
    "        return datetime.date.fromisoformat(rd).year\n",
    "    except:\n",
    "        try: return int(rd[:4])\n",
    "        except: return None"
   ],
   "id": "28c13307877d9f5b",
   "outputs": [],
   "execution_count": 3
  },
  {
   "metadata": {
    "ExecuteTime": {
     "end_time": "2025-08-23T14:04:21.174432Z",
     "start_time": "2025-08-23T14:04:21.152076Z"
    }
   },
   "cell_type": "code",
   "source": [
    "def heuristic_score(album, movie_title, movie_year):\n",
    "    name = album.get('name', '')\n",
    "    # Title similarity (robust to parentheses)\n",
    "    title_sim = fuzz.token_set_ratio(movie_title, name)\n",
    "    # Hints\n",
    "    hint_bonus = 15 if any(h in name.lower() for h in SOUNDTRACK_HINTS) else 0\n",
    "    # Year proximity\n",
    "    ay = album_release_year(album)\n",
    "    year_bonus = 0\n",
    "    if movie_year and ay:\n",
    "        diff = abs(ay - movie_year)\n",
    "        year_bonus = 12 if diff <= 1 else 6 if diff == 2 else 0\n",
    "    return title_sim + hint_bonus + year_bonus"
   ],
   "id": "c67635a87a3b1488",
   "outputs": [],
   "execution_count": 4
  },
  {
   "metadata": {
    "ExecuteTime": {
     "end_time": "2025-08-23T14:04:22.419734Z",
     "start_time": "2025-08-23T14:04:22.408874Z"
    }
   },
   "cell_type": "code",
   "source": [
    "def find_best_soundtrack_album(title, year):\n",
    "    tried = set()\n",
    "    best, best_score = None, -1\n",
    "\n",
    "    for q_title in [title]:\n",
    "        for q in candidate_queries(q_title, year):\n",
    "            if q in tried: continue\n",
    "            tried.add(q)\n",
    "            res = sp.search(q=q, type='album', limit=10)\n",
    "            for alb in res.get('albums', {}).get('items', []):\n",
    "                score = heuristic_score(alb, title, year)\n",
    "                if score > best_score:\n",
    "                    best, best_score = alb, score\n",
    "    return best, best_score\n"
   ],
   "id": "9ea120f88ca0248",
   "outputs": [],
   "execution_count": 5
  },
  {
   "metadata": {
    "ExecuteTime": {
     "end_time": "2025-08-23T14:04:23.924450Z",
     "start_time": "2025-08-23T14:04:23.902268Z"
    }
   },
   "cell_type": "code",
   "source": [
    "def get_album_popularity_metrics(album_id: str):\n",
    "    album = sp.album(album_id)\n",
    "    pop_album = album.get('popularity')  # 0–100 (may be None rarely)\n",
    "    tracks = []\n",
    "    # Gather all tracks’ popularity\n",
    "    results = sp.album_tracks(album_id, limit=50)\n",
    "    items = results.get('items', [])\n",
    "    while results.get('next'):\n",
    "        results = sp.next(results)\n",
    "        items += results.get('items', [])\n",
    "    # Fetch track details in batches to get popularity\n",
    "    ids = [t['id'] for t in items if t.get('id')]\n",
    "    pop_list = []\n",
    "    for i in range(0, len(ids), 50):\n",
    "        batch = sp.tracks(ids[i:i+50]).get('tracks', [])\n",
    "        pop_list.extend([t.get('popularity') for t in batch if t and t.get('popularity') is not None])\n",
    "    if pop_list:\n",
    "        avg_track_pop = sum(pop_list) / len(pop_list)\n",
    "        sum_track_pop = sum(pop_list)\n",
    "    else:\n",
    "        avg_track_pop = None\n",
    "        sum_track_pop = None\n",
    "    return {\n",
    "        'album_popularity': pop_album,\n",
    "        'avg_track_popularity': avg_track_pop,\n",
    "        'sum_track_popularity': sum_track_pop,\n",
    "        'n_tracks': len(ids),\n",
    "    }\n"
   ],
   "id": "b15504270a214f02",
   "outputs": [],
   "execution_count": 6
  },
  {
   "metadata": {
    "ExecuteTime": {
     "end_time": "2025-08-23T14:04:25.804397Z",
     "start_time": "2025-08-23T14:04:25.786570Z"
    }
   },
   "cell_type": "code",
   "source": [
    "def process_movie(tconst: str, title: str, year: int, revenue: float):\n",
    "\n",
    "    album, score = find_best_soundtrack_album(title, year)\n",
    "    if not album:\n",
    "        return {'tconst': tconst, 'title': title, 'year': year,\n",
    "                'revenue': revenue, 'spotify_album_id': None, 'match_score': None}\n",
    "\n",
    "    metrics = get_album_popularity_metrics(album['id'])\n",
    "    return {\n",
    "        'tconst': tconst,\n",
    "        'title': title,\n",
    "        'year': year,\n",
    "        'revenue': revenue,\n",
    "        'spotify_album_id': album['id'],\n",
    "        'spotify_album_name': album['name'],\n",
    "        'spotify_album_year': album_release_year(album),\n",
    "        'match_score': score,\n",
    "        **metrics\n",
    "    }\n"
   ],
   "id": "cd43b81b5d56033",
   "outputs": [],
   "execution_count": 7
  },
  {
   "metadata": {
    "ExecuteTime": {
     "end_time": "2025-08-23T14:22:55.878705Z",
     "start_time": "2025-08-23T14:04:29.875208Z"
    }
   },
   "cell_type": "code",
   "source": [
    "df = pd.read_csv(\"data\\\\clean_tmdb.csv\")\n",
    "print(\"Loaded clean_tmdb.csv with shape:\", df.shape)\n",
    "\n",
    "df = df[(df['revenue'] > 0) & (df['release_date'].notna()) & (df['imdb_id'].notna()) & (df['title'].notna())]\n",
    "df = df[df['release_date'].apply(lambda x: datetime.date.fromisoformat(x).year if pd.notna(x) else None) >= 1990]\n",
    "df = df[df['original_language'] == 'en']\n",
    "df = df[(df['vote_average'] >= 7.0) & (df['vote_count'] >= 2000)]\n",
    "df = df[['imdb_id', 'title', 'release_date', 'revenue']]\n",
    "\n",
    "print(\"Filtered DataFrame shape:\", df.shape)\n",
    "\n",
    "results = []\n",
    "tuples = list(df.itertuples(index=False))\n",
    "from tqdm import tqdm\n",
    "for row in tqdm(tuples[:500]):\n",
    "    tconst, title, year, revenue = row.imdb_id, row.title, datetime.date.fromisoformat(row.release_date).year, float(row.revenue)\n",
    "    result = process_movie(tconst, title, year, revenue)\n",
    "    results.append(result)\n",
    "\n",
    "results_df = pd.DataFrame(results)\n",
    "print(results_df.head())\n",
    "results_df.to_csv(\"data\\\\reel_hits.csv\", index=False)"
   ],
   "id": "c7f5e22af92267df",
   "outputs": [
    {
     "name": "stdout",
     "output_type": "stream",
     "text": [
      "Loaded clean_tmdb.csv with shape: (16013, 24)\n",
      "Filtered DataFrame shape: (745, 4)\n"
     ]
    },
    {
     "name": "stderr",
     "output_type": "stream",
     "text": [
      "100%|██████████| 500/500 [18:25<00:00,  2.21s/it]"
     ]
    },
    {
     "name": "stdout",
     "output_type": "stream",
     "text": [
      "      tconst            title  year       revenue        spotify_album_id  \\\n",
      "0  tt1375666        Inception  2010  8.255328e+08  2qvA7HmSg1iM6XMiFF76dp   \n",
      "1  tt0816692     Interstellar  2014  7.017292e+08  3B61kSKTxlY36cYgzvf3cP   \n",
      "2  tt0468569  The Dark Knight  2008  1.004558e+09  63uFfOZpC7jrV7wfuBY2lX   \n",
      "3  tt0499549           Avatar  2009  2.923706e+09  2ca6dgorijp5LW4vuZCLJm   \n",
      "4  tt0848228     The Avengers  2012  1.518816e+09  3wvpIkfl4oOgZLMaQBWadf   \n",
      "\n",
      "                                  spotify_album_name  spotify_album_year  \\\n",
      "0          Inception (Music from the Motion Picture)                2010   \n",
      "1  Interstellar (Original Motion Picture Soundtra...                2014   \n",
      "2  The Dark Knight (Original Motion Picture Sound...                2008   \n",
      "3                   Avatar (Soundtrack for Trailers)                2018   \n",
      "4  The Avengers (Original Motion Picture Soundtrack)                2012   \n",
      "\n",
      "   match_score  album_popularity  avg_track_popularity  sum_track_popularity  \\\n",
      "0        127.0                63             46.416667                   557   \n",
      "1        127.0                71             52.733333                  1582   \n",
      "2        127.0                53             41.785714                   585   \n",
      "3        115.0                 2              2.200000                    11   \n",
      "4        127.0                51             25.611111                   461   \n",
      "\n",
      "   n_tracks  \n",
      "0        12  \n",
      "1        30  \n",
      "2        14  \n",
      "3         5  \n",
      "4        18  \n"
     ]
    },
    {
     "name": "stderr",
     "output_type": "stream",
     "text": [
      "\n"
     ]
    }
   ],
   "execution_count": 8
  },
  {
   "metadata": {
    "ExecuteTime": {
     "end_time": "2025-08-23T18:32:48.596456Z",
     "start_time": "2025-08-23T18:32:48.130347Z"
    }
   },
   "cell_type": "code",
   "source": [
    "metrics = get_album_popularity_metrics(\"37ddKI6C7HW9O1gX1gI0ei\")\n",
    "\n",
    "print(metrics)"
   ],
   "id": "ce6ec55ddb451cfd",
   "outputs": [
    {
     "name": "stdout",
     "output_type": "stream",
     "text": [
      "{'album_popularity': 22, 'avg_track_popularity': 14.4, 'sum_track_popularity': 144, 'n_tracks': 10}\n"
     ]
    }
   ],
   "execution_count": 123
  },
  {
   "metadata": {
    "ExecuteTime": {
     "end_time": "2025-08-23T18:27:31.795052Z",
     "start_time": "2025-08-23T18:27:29.926174Z"
    }
   },
   "cell_type": "code",
   "source": [
    "row = tuples[539]\n",
    "tconst, title, year, revenue = row.imdb_id, row.title, datetime.date.fromisoformat(row.release_date).year, float(row.revenue)\n",
    "result = process_movie(tconst, title, year, revenue)\n",
    "print(result)"
   ],
   "id": "73eaff82fbbb5155",
   "outputs": [
    {
     "name": "stdout",
     "output_type": "stream",
     "text": [
      "{'tconst': 'tt1398426', 'title': 'Straight Outta Compton', 'year': 2015, 'revenue': 201634991.0, 'spotify_album_id': '1rMnLDmzyEBRiCj7yoGK2n', 'spotify_album_name': 'Straight Outta Compton (Music From The Motion Picture)', 'spotify_album_year': 2016, 'match_score': 127.0, 'album_popularity': 41, 'avg_track_popularity': 23.705882352941178, 'sum_track_popularity': 403, 'n_tracks': 17}\n"
     ]
    }
   ],
   "execution_count": 119
  }
 ],
 "metadata": {
  "kernelspec": {
   "name": "python3",
   "language": "python",
   "display_name": "Python 3 (ipykernel)"
  }
 },
 "nbformat": 4,
 "nbformat_minor": 5
}
