{
 "cells": [
  {
   "metadata": {
    "ExecuteTime": {
     "end_time": "2025-08-25T18:36:28.967384Z",
     "start_time": "2025-08-25T18:36:28.955838Z"
    }
   },
   "cell_type": "code",
   "source": "# Reel Hits",
   "id": "903568f8aa500dc5",
   "outputs": [],
   "execution_count": 99
  },
  {
   "metadata": {
    "ExecuteTime": {
     "end_time": "2025-08-27T10:17:35.607178Z",
     "start_time": "2025-08-27T10:17:35.592195Z"
    }
   },
   "cell_type": "code",
   "source": [
    "import datetime\n",
    "import spotipy\n",
    "import os\n",
    "import pandas as pd\n",
    "from spotipy.oauth2 import SpotifyClientCredentials\n",
    "from rapidfuzz import fuzz\n",
    "from dotenv import load_dotenv\n",
    "from typing import Union\n",
    "\n",
    "load_dotenv()\n",
    "\n",
    "cred_manager = SpotifyClientCredentials(client_id=os.getenv(\"SPOTIFY_CLIENT_ID\"),\n",
    "                                        client_secret=os.getenv(\"SPOTIFY_CLIENT_SECRET\"))\n",
    "sp = spotipy.Spotify(client_credentials_manager=cred_manager,\n",
    "                     requests_timeout=15, retries=3, status_forcelist=(429, 500, 502, 503, 504))"
   ],
   "id": "c9fd92665cb1925b",
   "outputs": [],
   "execution_count": 39
  },
  {
   "metadata": {
    "ExecuteTime": {
     "end_time": "2025-08-27T10:17:36.175183Z",
     "start_time": "2025-08-27T10:17:36.163385Z"
    }
   },
   "cell_type": "code",
   "source": [
    "SOUNDTRACK_HINTS = (\"soundtrack\", \"original motion picture\", \"music from the motion picture\", \"original score\", \"ost\")\n",
    "\n",
    "def candidate_queries(title: str, year: Union[int, None]):\n",
    "    base = [f'album:\"{title}\"', f'{title} soundtrack', f'album:\"{title} Original Motion Picture Soundtrack\"',\n",
    "            f'album:\"{title} Original Score\"', f'album:\"{title} Music From the Motion Picture\"']\n",
    "    if year:\n",
    "        base += [f'album:\"{title}\" year:{year}', f'{title} year:{year} soundtrack']\n",
    "    return base"
   ],
   "id": "2135fd1986c26bac",
   "outputs": [],
   "execution_count": 40
  },
  {
   "metadata": {
    "ExecuteTime": {
     "end_time": "2025-08-27T10:17:36.862895Z",
     "start_time": "2025-08-27T10:17:36.848034Z"
    }
   },
   "cell_type": "code",
   "source": [
    "def album_release_year(album):\n",
    "    # 'release_date' can be \"YYYY\" or \"YYYY-MM-DD\"\n",
    "    rd = album.get('release_date')\n",
    "    if not rd: return None\n",
    "    try:\n",
    "        return datetime.date.fromisoformat(rd).year\n",
    "    except:\n",
    "        try: return int(rd[:4])\n",
    "        except: return None"
   ],
   "id": "28c13307877d9f5b",
   "outputs": [],
   "execution_count": 41
  },
  {
   "metadata": {
    "ExecuteTime": {
     "end_time": "2025-08-27T10:17:37.472734Z",
     "start_time": "2025-08-27T10:17:37.459023Z"
    }
   },
   "cell_type": "code",
   "source": [
    "def heuristic_score(album, movie_title, movie_year):\n",
    "    name = album.get('name', '')\n",
    "    # Title similarity (robust to parentheses)\n",
    "    title_sim = fuzz.token_set_ratio(movie_title, name)\n",
    "    # Hints\n",
    "    hint_bonus = 15 if any(h in name.lower() for h in SOUNDTRACK_HINTS) else 0\n",
    "    # Year proximity\n",
    "    ay = album_release_year(album)\n",
    "    year_bonus = 0\n",
    "    if movie_year and ay:\n",
    "        diff = abs(ay - movie_year)\n",
    "        year_bonus = 12 if diff <= 1 else 6 if diff == 2 else 0\n",
    "    return title_sim + hint_bonus + year_bonus"
   ],
   "id": "c67635a87a3b1488",
   "outputs": [],
   "execution_count": 42
  },
  {
   "metadata": {
    "ExecuteTime": {
     "end_time": "2025-08-27T10:17:38.025293Z",
     "start_time": "2025-08-27T10:17:38.013071Z"
    }
   },
   "cell_type": "code",
   "source": [
    "def find_best_soundtrack_album(title, year):\n",
    "    tried = set()\n",
    "    best, best_score = None, -1\n",
    "\n",
    "    for q_title in [title]:\n",
    "        for q in candidate_queries(q_title, year):\n",
    "            if q in tried: continue\n",
    "            tried.add(q)\n",
    "            res = sp.search(q=q, type='album', limit=10)\n",
    "            for alb in res.get('albums', {}).get('items', []):\n",
    "                score = heuristic_score(alb, title, year)\n",
    "                if score > best_score:\n",
    "                    best, best_score = alb, score\n",
    "    return best, best_score\n"
   ],
   "id": "9ea120f88ca0248",
   "outputs": [],
   "execution_count": 43
  },
  {
   "metadata": {
    "ExecuteTime": {
     "end_time": "2025-08-27T10:17:38.618027Z",
     "start_time": "2025-08-27T10:17:38.605203Z"
    }
   },
   "cell_type": "code",
   "source": [
    "def get_album_popularity_metrics(album_id: str):\n",
    "    album = sp.album(album_id)\n",
    "    pop_album = album.get('popularity')  # 0–100 (may be None rarely)\n",
    "    # Gather all tracks’ popularity\n",
    "    results = sp.album_tracks(album_id, limit=50)\n",
    "    items = results.get('items', [])\n",
    "    album_artists = set(artist['name'] for track in items for artist in track.get('artists', []))\n",
    "    while results.get('next'):\n",
    "        results = sp.next(results)\n",
    "        items += results.get('items', [])\n",
    "\n",
    "    album_length_ms = sum(t.get('duration_ms') for t in items if t.get('duration_ms'))\n",
    "    album_length_min = album_length_ms / 60000\n",
    "    # Fetch track details in batches to get popularity\n",
    "    ids = [t['id'] for t in items if t.get('id')]\n",
    "    pop_list = []\n",
    "    for i in range(0, len(ids), 50):\n",
    "        batch = sp.tracks(ids[i:i+50]).get('tracks', [])\n",
    "        pop_list.extend([t.get('popularity') for t in batch if t and t.get('popularity') is not None])\n",
    "    if pop_list:\n",
    "        avg_track_pop = sum(pop_list) / len(pop_list)\n",
    "        sum_track_pop = sum(pop_list)\n",
    "    else:\n",
    "        avg_track_pop = None\n",
    "        sum_track_pop = None\n",
    "    return {\n",
    "        'album_popularity': pop_album,\n",
    "        'avg_track_popularity': avg_track_pop,\n",
    "        'sum_track_popularity': sum_track_pop,\n",
    "        'n_tracks': len(ids),\n",
    "        'album_length_ms': album_length_ms,\n",
    "        'album_length_min': album_length_min,\n",
    "        'album_artists': album_artists\n",
    "    }\n"
   ],
   "id": "b15504270a214f02",
   "outputs": [],
   "execution_count": 44
  },
  {
   "metadata": {
    "ExecuteTime": {
     "end_time": "2025-08-27T10:17:39.279330Z",
     "start_time": "2025-08-27T10:17:39.270144Z"
    }
   },
   "cell_type": "code",
   "source": [
    "def process_movie(tconst: str, title: str, year: int, revenue: float):\n",
    "\n",
    "    album, score = find_best_soundtrack_album(title, year)\n",
    "    if not album:\n",
    "        return {'tconst': tconst, 'title': title, 'year': year,\n",
    "                'revenue': revenue, 'spotify_album_id': None, 'match_score': None}\n",
    "\n",
    "    metrics = get_album_popularity_metrics(album['id'])\n",
    "    return {\n",
    "        'tconst': tconst,\n",
    "        'title': title,\n",
    "        'year': year,\n",
    "        'revenue': revenue,\n",
    "        'spotify_album_id': album['id'],\n",
    "        'spotify_album_name': album['name'],\n",
    "        'spotify_album_year': album_release_year(album),\n",
    "        'match_score': score,\n",
    "        **metrics\n",
    "    }\n"
   ],
   "id": "cd43b81b5d56033",
   "outputs": [],
   "execution_count": 45
  },
  {
   "metadata": {
    "ExecuteTime": {
     "end_time": "2025-08-27T10:17:43.870928Z",
     "start_time": "2025-08-27T10:17:40.940061Z"
    }
   },
   "cell_type": "code",
   "source": [
    "df = pd.read_csv(\"..\\\\data\\\\clean_tmdb.csv\")\n",
    "print(\"Loaded clean_tmdb.csv with shape:\", df.shape)\n",
    "\n",
    "df = df[(df['revenue'] > 0) & (df['release_date'].notna()) & (df['imdb_id'].notna()) & (df['title'].notna())]\n",
    "df = df[df['release_date'].apply(lambda x: datetime.date.fromisoformat(x).year if pd.notna(x) else None) >= 1990]\n",
    "df = df[df['original_language'] == 'en']\n",
    "df = df[(df['vote_average'] >= 7.0) & (df['vote_count'] >= 2000)]\n",
    "df = df[['imdb_id', 'title', 'release_date', 'revenue']]\n",
    "\n",
    "print(\"Filtered DataFrame shape:\", df.shape)\n",
    "\n",
    "results = []\n",
    "tuples = list(df.itertuples(index=False))\n",
    "from tqdm import tqdm\n",
    "for row in tqdm(tuples[:500]):\n",
    "    tconst, title, year, revenue = row.imdb_id, row.title, datetime.date.fromisoformat(row.release_date).year, float(row.revenue)\n",
    "    result = process_movie(tconst, title, year, revenue)\n",
    "    results.append(result)\n",
    "\n",
    "results_df = pd.DataFrame(results)\n",
    "print(results_df.head())\n",
    "results_df.to_csv(\"data\\\\reel_hits_big.csv\", index=False)"
   ],
   "id": "c7f5e22af92267df",
   "outputs": [
    {
     "name": "stdout",
     "output_type": "stream",
     "text": [
      "Loaded clean_tmdb.csv with shape: (16013, 24)\n",
      "Filtered DataFrame shape: (745, 4)\n"
     ]
    },
    {
     "name": "stderr",
     "output_type": "stream",
     "text": [
      "  0%|          | 0/500 [00:01<?, ?it/s]\n"
     ]
    },
    {
     "ename": "KeyboardInterrupt",
     "evalue": "",
     "output_type": "error",
     "traceback": [
      "\u001B[1;31m---------------------------------------------------------------------------\u001B[0m",
      "\u001B[1;31mKeyboardInterrupt\u001B[0m                         Traceback (most recent call last)",
      "Cell \u001B[1;32mIn[46], line 17\u001B[0m\n\u001B[0;32m     15\u001B[0m \u001B[38;5;28;01mfor\u001B[39;00m row \u001B[38;5;129;01min\u001B[39;00m tqdm(tuples[:\u001B[38;5;241m500\u001B[39m]):\n\u001B[0;32m     16\u001B[0m     tconst, title, year, revenue \u001B[38;5;241m=\u001B[39m row\u001B[38;5;241m.\u001B[39mimdb_id, row\u001B[38;5;241m.\u001B[39mtitle, datetime\u001B[38;5;241m.\u001B[39mdate\u001B[38;5;241m.\u001B[39mfromisoformat(row\u001B[38;5;241m.\u001B[39mrelease_date)\u001B[38;5;241m.\u001B[39myear, \u001B[38;5;28mfloat\u001B[39m(row\u001B[38;5;241m.\u001B[39mrevenue)\n\u001B[1;32m---> 17\u001B[0m     result \u001B[38;5;241m=\u001B[39m \u001B[43mprocess_movie\u001B[49m\u001B[43m(\u001B[49m\u001B[43mtconst\u001B[49m\u001B[43m,\u001B[49m\u001B[43m \u001B[49m\u001B[43mtitle\u001B[49m\u001B[43m,\u001B[49m\u001B[43m \u001B[49m\u001B[43myear\u001B[49m\u001B[43m,\u001B[49m\u001B[43m \u001B[49m\u001B[43mrevenue\u001B[49m\u001B[43m)\u001B[49m\n\u001B[0;32m     18\u001B[0m     results\u001B[38;5;241m.\u001B[39mappend(result)\n\u001B[0;32m     20\u001B[0m results_df \u001B[38;5;241m=\u001B[39m pd\u001B[38;5;241m.\u001B[39mDataFrame(results)\n",
      "Cell \u001B[1;32mIn[45], line 8\u001B[0m, in \u001B[0;36mprocess_movie\u001B[1;34m(tconst, title, year, revenue)\u001B[0m\n\u001B[0;32m      4\u001B[0m \u001B[38;5;28;01mif\u001B[39;00m \u001B[38;5;129;01mnot\u001B[39;00m album:\n\u001B[0;32m      5\u001B[0m     \u001B[38;5;28;01mreturn\u001B[39;00m {\u001B[38;5;124m'\u001B[39m\u001B[38;5;124mtconst\u001B[39m\u001B[38;5;124m'\u001B[39m: tconst, \u001B[38;5;124m'\u001B[39m\u001B[38;5;124mtitle\u001B[39m\u001B[38;5;124m'\u001B[39m: title, \u001B[38;5;124m'\u001B[39m\u001B[38;5;124myear\u001B[39m\u001B[38;5;124m'\u001B[39m: year,\n\u001B[0;32m      6\u001B[0m             \u001B[38;5;124m'\u001B[39m\u001B[38;5;124mrevenue\u001B[39m\u001B[38;5;124m'\u001B[39m: revenue, \u001B[38;5;124m'\u001B[39m\u001B[38;5;124mspotify_album_id\u001B[39m\u001B[38;5;124m'\u001B[39m: \u001B[38;5;28;01mNone\u001B[39;00m, \u001B[38;5;124m'\u001B[39m\u001B[38;5;124mmatch_score\u001B[39m\u001B[38;5;124m'\u001B[39m: \u001B[38;5;28;01mNone\u001B[39;00m}\n\u001B[1;32m----> 8\u001B[0m metrics \u001B[38;5;241m=\u001B[39m \u001B[43mget_album_popularity_metrics\u001B[49m\u001B[43m(\u001B[49m\u001B[43malbum\u001B[49m\u001B[43m[\u001B[49m\u001B[38;5;124;43m'\u001B[39;49m\u001B[38;5;124;43mid\u001B[39;49m\u001B[38;5;124;43m'\u001B[39;49m\u001B[43m]\u001B[49m\u001B[43m)\u001B[49m\n\u001B[0;32m      9\u001B[0m \u001B[38;5;28;01mreturn\u001B[39;00m {\n\u001B[0;32m     10\u001B[0m     \u001B[38;5;124m'\u001B[39m\u001B[38;5;124mtconst\u001B[39m\u001B[38;5;124m'\u001B[39m: tconst,\n\u001B[0;32m     11\u001B[0m     \u001B[38;5;124m'\u001B[39m\u001B[38;5;124mtitle\u001B[39m\u001B[38;5;124m'\u001B[39m: title,\n\u001B[1;32m   (...)\u001B[0m\n\u001B[0;32m     18\u001B[0m     \u001B[38;5;241m*\u001B[39m\u001B[38;5;241m*\u001B[39mmetrics\n\u001B[0;32m     19\u001B[0m }\n",
      "Cell \u001B[1;32mIn[44], line 18\u001B[0m, in \u001B[0;36mget_album_popularity_metrics\u001B[1;34m(album_id)\u001B[0m\n\u001B[0;32m     16\u001B[0m pop_list \u001B[38;5;241m=\u001B[39m []\n\u001B[0;32m     17\u001B[0m \u001B[38;5;28;01mfor\u001B[39;00m i \u001B[38;5;129;01min\u001B[39;00m \u001B[38;5;28mrange\u001B[39m(\u001B[38;5;241m0\u001B[39m, \u001B[38;5;28mlen\u001B[39m(ids), \u001B[38;5;241m50\u001B[39m):\n\u001B[1;32m---> 18\u001B[0m     batch \u001B[38;5;241m=\u001B[39m \u001B[43msp\u001B[49m\u001B[38;5;241;43m.\u001B[39;49m\u001B[43mtracks\u001B[49m\u001B[43m(\u001B[49m\u001B[43mids\u001B[49m\u001B[43m[\u001B[49m\u001B[43mi\u001B[49m\u001B[43m:\u001B[49m\u001B[43mi\u001B[49m\u001B[38;5;241;43m+\u001B[39;49m\u001B[38;5;241;43m50\u001B[39;49m\u001B[43m]\u001B[49m\u001B[43m)\u001B[49m\u001B[38;5;241m.\u001B[39mget(\u001B[38;5;124m'\u001B[39m\u001B[38;5;124mtracks\u001B[39m\u001B[38;5;124m'\u001B[39m, [])\n\u001B[0;32m     19\u001B[0m     pop_list\u001B[38;5;241m.\u001B[39mextend([t\u001B[38;5;241m.\u001B[39mget(\u001B[38;5;124m'\u001B[39m\u001B[38;5;124mpopularity\u001B[39m\u001B[38;5;124m'\u001B[39m) \u001B[38;5;28;01mfor\u001B[39;00m t \u001B[38;5;129;01min\u001B[39;00m batch \u001B[38;5;28;01mif\u001B[39;00m t \u001B[38;5;129;01mand\u001B[39;00m t\u001B[38;5;241m.\u001B[39mget(\u001B[38;5;124m'\u001B[39m\u001B[38;5;124mpopularity\u001B[39m\u001B[38;5;124m'\u001B[39m) \u001B[38;5;129;01mis\u001B[39;00m \u001B[38;5;129;01mnot\u001B[39;00m \u001B[38;5;28;01mNone\u001B[39;00m])\n\u001B[0;32m     20\u001B[0m \u001B[38;5;28;01mif\u001B[39;00m pop_list:\n",
      "File \u001B[1;32m~\\AppData\\Local\\Packages\\PythonSoftwareFoundation.Python.3.9_qbz5n2kfra8p0\\LocalCache\\local-packages\\Python39\\site-packages\\spotipy\\client.py:383\u001B[0m, in \u001B[0;36mSpotify.tracks\u001B[1;34m(self, tracks, market)\u001B[0m\n\u001B[0;32m    375\u001B[0m \u001B[38;5;250m\u001B[39m\u001B[38;5;124;03m\"\"\" returns a list of tracks given a list of track IDs, URIs, or URLs\u001B[39;00m\n\u001B[0;32m    376\u001B[0m \n\u001B[0;32m    377\u001B[0m \u001B[38;5;124;03m    Parameters:\u001B[39;00m\n\u001B[0;32m    378\u001B[0m \u001B[38;5;124;03m        - tracks - a list of spotify URIs, URLs or IDs. Maximum: 50 IDs.\u001B[39;00m\n\u001B[0;32m    379\u001B[0m \u001B[38;5;124;03m        - market - an ISO 3166-1 alpha-2 country code.\u001B[39;00m\n\u001B[0;32m    380\u001B[0m \u001B[38;5;124;03m\"\"\"\u001B[39;00m\n\u001B[0;32m    382\u001B[0m tlist \u001B[38;5;241m=\u001B[39m [\u001B[38;5;28mself\u001B[39m\u001B[38;5;241m.\u001B[39m_get_id(\u001B[38;5;124m\"\u001B[39m\u001B[38;5;124mtrack\u001B[39m\u001B[38;5;124m\"\u001B[39m, t) \u001B[38;5;28;01mfor\u001B[39;00m t \u001B[38;5;129;01min\u001B[39;00m tracks]\n\u001B[1;32m--> 383\u001B[0m \u001B[38;5;28;01mreturn\u001B[39;00m \u001B[38;5;28;43mself\u001B[39;49m\u001B[38;5;241;43m.\u001B[39;49m\u001B[43m_get\u001B[49m\u001B[43m(\u001B[49m\u001B[38;5;124;43m\"\u001B[39;49m\u001B[38;5;124;43mtracks/?ids=\u001B[39;49m\u001B[38;5;124;43m\"\u001B[39;49m\u001B[43m \u001B[49m\u001B[38;5;241;43m+\u001B[39;49m\u001B[43m \u001B[49m\u001B[38;5;124;43m\"\u001B[39;49m\u001B[38;5;124;43m,\u001B[39;49m\u001B[38;5;124;43m\"\u001B[39;49m\u001B[38;5;241;43m.\u001B[39;49m\u001B[43mjoin\u001B[49m\u001B[43m(\u001B[49m\u001B[43mtlist\u001B[49m\u001B[43m)\u001B[49m\u001B[43m,\u001B[49m\u001B[43m \u001B[49m\u001B[43mmarket\u001B[49m\u001B[38;5;241;43m=\u001B[39;49m\u001B[43mmarket\u001B[49m\u001B[43m)\u001B[49m\n",
      "File \u001B[1;32m~\\AppData\\Local\\Packages\\PythonSoftwareFoundation.Python.3.9_qbz5n2kfra8p0\\LocalCache\\local-packages\\Python39\\site-packages\\spotipy\\client.py:324\u001B[0m, in \u001B[0;36mSpotify._get\u001B[1;34m(self, url, args, payload, **kwargs)\u001B[0m\n\u001B[0;32m    321\u001B[0m \u001B[38;5;28;01mif\u001B[39;00m args:\n\u001B[0;32m    322\u001B[0m     kwargs\u001B[38;5;241m.\u001B[39mupdate(args)\n\u001B[1;32m--> 324\u001B[0m \u001B[38;5;28;01mreturn\u001B[39;00m \u001B[38;5;28;43mself\u001B[39;49m\u001B[38;5;241;43m.\u001B[39;49m\u001B[43m_internal_call\u001B[49m\u001B[43m(\u001B[49m\u001B[38;5;124;43m\"\u001B[39;49m\u001B[38;5;124;43mGET\u001B[39;49m\u001B[38;5;124;43m\"\u001B[39;49m\u001B[43m,\u001B[49m\u001B[43m \u001B[49m\u001B[43murl\u001B[49m\u001B[43m,\u001B[49m\u001B[43m \u001B[49m\u001B[43mpayload\u001B[49m\u001B[43m,\u001B[49m\u001B[43m \u001B[49m\u001B[43mkwargs\u001B[49m\u001B[43m)\u001B[49m\n",
      "File \u001B[1;32m~\\AppData\\Local\\Packages\\PythonSoftwareFoundation.Python.3.9_qbz5n2kfra8p0\\LocalCache\\local-packages\\Python39\\site-packages\\spotipy\\client.py:269\u001B[0m, in \u001B[0;36mSpotify._internal_call\u001B[1;34m(self, method, url, payload, params)\u001B[0m\n\u001B[0;32m    265\u001B[0m logger\u001B[38;5;241m.\u001B[39mdebug(\u001B[38;5;124mf\u001B[39m\u001B[38;5;124m\"\u001B[39m\u001B[38;5;124mSending \u001B[39m\u001B[38;5;132;01m{\u001B[39;00mmethod\u001B[38;5;132;01m}\u001B[39;00m\u001B[38;5;124m to \u001B[39m\u001B[38;5;132;01m{\u001B[39;00murl\u001B[38;5;132;01m}\u001B[39;00m\u001B[38;5;124m with Params: \u001B[39m\u001B[38;5;124m\"\u001B[39m\n\u001B[0;32m    266\u001B[0m              \u001B[38;5;124mf\u001B[39m\u001B[38;5;124m\"\u001B[39m\u001B[38;5;132;01m{\u001B[39;00margs\u001B[38;5;241m.\u001B[39mget(\u001B[38;5;124m'\u001B[39m\u001B[38;5;124mparams\u001B[39m\u001B[38;5;124m'\u001B[39m)\u001B[38;5;132;01m}\u001B[39;00m\u001B[38;5;124m Headers: \u001B[39m\u001B[38;5;132;01m{\u001B[39;00mheaders\u001B[38;5;132;01m}\u001B[39;00m\u001B[38;5;124m and Body: \u001B[39m\u001B[38;5;132;01m{\u001B[39;00margs\u001B[38;5;241m.\u001B[39mget(\u001B[38;5;124m'\u001B[39m\u001B[38;5;124mdata\u001B[39m\u001B[38;5;124m'\u001B[39m)\u001B[38;5;132;01m!r}\u001B[39;00m\u001B[38;5;124m\"\u001B[39m)\n\u001B[0;32m    268\u001B[0m \u001B[38;5;28;01mtry\u001B[39;00m:\n\u001B[1;32m--> 269\u001B[0m     response \u001B[38;5;241m=\u001B[39m \u001B[38;5;28mself\u001B[39m\u001B[38;5;241m.\u001B[39m_session\u001B[38;5;241m.\u001B[39mrequest(\n\u001B[0;32m    270\u001B[0m         method, url, headers\u001B[38;5;241m=\u001B[39mheaders, proxies\u001B[38;5;241m=\u001B[39m\u001B[38;5;28mself\u001B[39m\u001B[38;5;241m.\u001B[39mproxies,\n\u001B[0;32m    271\u001B[0m         timeout\u001B[38;5;241m=\u001B[39m\u001B[38;5;28mself\u001B[39m\u001B[38;5;241m.\u001B[39mrequests_timeout, \u001B[38;5;241m*\u001B[39m\u001B[38;5;241m*\u001B[39margs\n\u001B[0;32m    272\u001B[0m     )\n\u001B[0;32m    274\u001B[0m     response\u001B[38;5;241m.\u001B[39mraise_for_status()\n\u001B[0;32m    275\u001B[0m     results \u001B[38;5;241m=\u001B[39m response\u001B[38;5;241m.\u001B[39mjson()\n",
      "File \u001B[1;32m~\\AppData\\Local\\Packages\\PythonSoftwareFoundation.Python.3.9_qbz5n2kfra8p0\\LocalCache\\local-packages\\Python39\\site-packages\\requests\\sessions.py:589\u001B[0m, in \u001B[0;36mSession.request\u001B[1;34m(self, method, url, params, data, headers, cookies, files, auth, timeout, allow_redirects, proxies, hooks, stream, verify, cert, json)\u001B[0m\n\u001B[0;32m    584\u001B[0m send_kwargs \u001B[38;5;241m=\u001B[39m {\n\u001B[0;32m    585\u001B[0m     \u001B[38;5;124m\"\u001B[39m\u001B[38;5;124mtimeout\u001B[39m\u001B[38;5;124m\"\u001B[39m: timeout,\n\u001B[0;32m    586\u001B[0m     \u001B[38;5;124m\"\u001B[39m\u001B[38;5;124mallow_redirects\u001B[39m\u001B[38;5;124m\"\u001B[39m: allow_redirects,\n\u001B[0;32m    587\u001B[0m }\n\u001B[0;32m    588\u001B[0m send_kwargs\u001B[38;5;241m.\u001B[39mupdate(settings)\n\u001B[1;32m--> 589\u001B[0m resp \u001B[38;5;241m=\u001B[39m \u001B[38;5;28mself\u001B[39m\u001B[38;5;241m.\u001B[39msend(prep, \u001B[38;5;241m*\u001B[39m\u001B[38;5;241m*\u001B[39msend_kwargs)\n\u001B[0;32m    591\u001B[0m \u001B[38;5;28;01mreturn\u001B[39;00m resp\n",
      "File \u001B[1;32m~\\AppData\\Local\\Packages\\PythonSoftwareFoundation.Python.3.9_qbz5n2kfra8p0\\LocalCache\\local-packages\\Python39\\site-packages\\requests\\sessions.py:703\u001B[0m, in \u001B[0;36mSession.send\u001B[1;34m(self, request, **kwargs)\u001B[0m\n\u001B[0;32m    700\u001B[0m start \u001B[38;5;241m=\u001B[39m preferred_clock()\n\u001B[0;32m    702\u001B[0m \u001B[38;5;66;03m# Send the request\u001B[39;00m\n\u001B[1;32m--> 703\u001B[0m r \u001B[38;5;241m=\u001B[39m adapter\u001B[38;5;241m.\u001B[39msend(request, \u001B[38;5;241m*\u001B[39m\u001B[38;5;241m*\u001B[39mkwargs)\n\u001B[0;32m    705\u001B[0m \u001B[38;5;66;03m# Total elapsed time of the request (approximately)\u001B[39;00m\n\u001B[0;32m    706\u001B[0m elapsed \u001B[38;5;241m=\u001B[39m preferred_clock() \u001B[38;5;241m-\u001B[39m start\n",
      "File \u001B[1;32m~\\AppData\\Local\\Packages\\PythonSoftwareFoundation.Python.3.9_qbz5n2kfra8p0\\LocalCache\\local-packages\\Python39\\site-packages\\requests\\adapters.py:644\u001B[0m, in \u001B[0;36mHTTPAdapter.send\u001B[1;34m(self, request, stream, timeout, verify, cert, proxies)\u001B[0m\n\u001B[0;32m    641\u001B[0m     timeout \u001B[38;5;241m=\u001B[39m TimeoutSauce(connect\u001B[38;5;241m=\u001B[39mtimeout, read\u001B[38;5;241m=\u001B[39mtimeout)\n\u001B[0;32m    643\u001B[0m \u001B[38;5;28;01mtry\u001B[39;00m:\n\u001B[1;32m--> 644\u001B[0m     resp \u001B[38;5;241m=\u001B[39m \u001B[43mconn\u001B[49m\u001B[38;5;241;43m.\u001B[39;49m\u001B[43murlopen\u001B[49m\u001B[43m(\u001B[49m\n\u001B[0;32m    645\u001B[0m \u001B[43m        \u001B[49m\u001B[43mmethod\u001B[49m\u001B[38;5;241;43m=\u001B[39;49m\u001B[43mrequest\u001B[49m\u001B[38;5;241;43m.\u001B[39;49m\u001B[43mmethod\u001B[49m\u001B[43m,\u001B[49m\n\u001B[0;32m    646\u001B[0m \u001B[43m        \u001B[49m\u001B[43murl\u001B[49m\u001B[38;5;241;43m=\u001B[39;49m\u001B[43murl\u001B[49m\u001B[43m,\u001B[49m\n\u001B[0;32m    647\u001B[0m \u001B[43m        \u001B[49m\u001B[43mbody\u001B[49m\u001B[38;5;241;43m=\u001B[39;49m\u001B[43mrequest\u001B[49m\u001B[38;5;241;43m.\u001B[39;49m\u001B[43mbody\u001B[49m\u001B[43m,\u001B[49m\n\u001B[0;32m    648\u001B[0m \u001B[43m        \u001B[49m\u001B[43mheaders\u001B[49m\u001B[38;5;241;43m=\u001B[39;49m\u001B[43mrequest\u001B[49m\u001B[38;5;241;43m.\u001B[39;49m\u001B[43mheaders\u001B[49m\u001B[43m,\u001B[49m\n\u001B[0;32m    649\u001B[0m \u001B[43m        \u001B[49m\u001B[43mredirect\u001B[49m\u001B[38;5;241;43m=\u001B[39;49m\u001B[38;5;28;43;01mFalse\u001B[39;49;00m\u001B[43m,\u001B[49m\n\u001B[0;32m    650\u001B[0m \u001B[43m        \u001B[49m\u001B[43massert_same_host\u001B[49m\u001B[38;5;241;43m=\u001B[39;49m\u001B[38;5;28;43;01mFalse\u001B[39;49;00m\u001B[43m,\u001B[49m\n\u001B[0;32m    651\u001B[0m \u001B[43m        \u001B[49m\u001B[43mpreload_content\u001B[49m\u001B[38;5;241;43m=\u001B[39;49m\u001B[38;5;28;43;01mFalse\u001B[39;49;00m\u001B[43m,\u001B[49m\n\u001B[0;32m    652\u001B[0m \u001B[43m        \u001B[49m\u001B[43mdecode_content\u001B[49m\u001B[38;5;241;43m=\u001B[39;49m\u001B[38;5;28;43;01mFalse\u001B[39;49;00m\u001B[43m,\u001B[49m\n\u001B[0;32m    653\u001B[0m \u001B[43m        \u001B[49m\u001B[43mretries\u001B[49m\u001B[38;5;241;43m=\u001B[39;49m\u001B[38;5;28;43mself\u001B[39;49m\u001B[38;5;241;43m.\u001B[39;49m\u001B[43mmax_retries\u001B[49m\u001B[43m,\u001B[49m\n\u001B[0;32m    654\u001B[0m \u001B[43m        \u001B[49m\u001B[43mtimeout\u001B[49m\u001B[38;5;241;43m=\u001B[39;49m\u001B[43mtimeout\u001B[49m\u001B[43m,\u001B[49m\n\u001B[0;32m    655\u001B[0m \u001B[43m        \u001B[49m\u001B[43mchunked\u001B[49m\u001B[38;5;241;43m=\u001B[39;49m\u001B[43mchunked\u001B[49m\u001B[43m,\u001B[49m\n\u001B[0;32m    656\u001B[0m \u001B[43m    \u001B[49m\u001B[43m)\u001B[49m\n\u001B[0;32m    658\u001B[0m \u001B[38;5;28;01mexcept\u001B[39;00m (ProtocolError, \u001B[38;5;167;01mOSError\u001B[39;00m) \u001B[38;5;28;01mas\u001B[39;00m err:\n\u001B[0;32m    659\u001B[0m     \u001B[38;5;28;01mraise\u001B[39;00m \u001B[38;5;167;01mConnectionError\u001B[39;00m(err, request\u001B[38;5;241m=\u001B[39mrequest)\n",
      "File \u001B[1;32m~\\AppData\\Local\\Packages\\PythonSoftwareFoundation.Python.3.9_qbz5n2kfra8p0\\LocalCache\\local-packages\\Python39\\site-packages\\urllib3\\connectionpool.py:787\u001B[0m, in \u001B[0;36mHTTPConnectionPool.urlopen\u001B[1;34m(self, method, url, body, headers, retries, redirect, assert_same_host, timeout, pool_timeout, release_conn, chunked, body_pos, preload_content, decode_content, **response_kw)\u001B[0m\n\u001B[0;32m    784\u001B[0m response_conn \u001B[38;5;241m=\u001B[39m conn \u001B[38;5;28;01mif\u001B[39;00m \u001B[38;5;129;01mnot\u001B[39;00m release_conn \u001B[38;5;28;01melse\u001B[39;00m \u001B[38;5;28;01mNone\u001B[39;00m\n\u001B[0;32m    786\u001B[0m \u001B[38;5;66;03m# Make the request on the HTTPConnection object\u001B[39;00m\n\u001B[1;32m--> 787\u001B[0m response \u001B[38;5;241m=\u001B[39m \u001B[38;5;28mself\u001B[39m\u001B[38;5;241m.\u001B[39m_make_request(\n\u001B[0;32m    788\u001B[0m     conn,\n\u001B[0;32m    789\u001B[0m     method,\n\u001B[0;32m    790\u001B[0m     url,\n\u001B[0;32m    791\u001B[0m     timeout\u001B[38;5;241m=\u001B[39mtimeout_obj,\n\u001B[0;32m    792\u001B[0m     body\u001B[38;5;241m=\u001B[39mbody,\n\u001B[0;32m    793\u001B[0m     headers\u001B[38;5;241m=\u001B[39mheaders,\n\u001B[0;32m    794\u001B[0m     chunked\u001B[38;5;241m=\u001B[39mchunked,\n\u001B[0;32m    795\u001B[0m     retries\u001B[38;5;241m=\u001B[39mretries,\n\u001B[0;32m    796\u001B[0m     response_conn\u001B[38;5;241m=\u001B[39mresponse_conn,\n\u001B[0;32m    797\u001B[0m     preload_content\u001B[38;5;241m=\u001B[39mpreload_content,\n\u001B[0;32m    798\u001B[0m     decode_content\u001B[38;5;241m=\u001B[39mdecode_content,\n\u001B[0;32m    799\u001B[0m     \u001B[38;5;241m*\u001B[39m\u001B[38;5;241m*\u001B[39mresponse_kw,\n\u001B[0;32m    800\u001B[0m )\n\u001B[0;32m    802\u001B[0m \u001B[38;5;66;03m# Everything went great!\u001B[39;00m\n\u001B[0;32m    803\u001B[0m clean_exit \u001B[38;5;241m=\u001B[39m \u001B[38;5;28;01mTrue\u001B[39;00m\n",
      "File \u001B[1;32m~\\AppData\\Local\\Packages\\PythonSoftwareFoundation.Python.3.9_qbz5n2kfra8p0\\LocalCache\\local-packages\\Python39\\site-packages\\urllib3\\connectionpool.py:534\u001B[0m, in \u001B[0;36mHTTPConnectionPool._make_request\u001B[1;34m(self, conn, method, url, body, headers, retries, timeout, chunked, response_conn, preload_content, decode_content, enforce_content_length)\u001B[0m\n\u001B[0;32m    532\u001B[0m \u001B[38;5;66;03m# Receive the response from the server\u001B[39;00m\n\u001B[0;32m    533\u001B[0m \u001B[38;5;28;01mtry\u001B[39;00m:\n\u001B[1;32m--> 534\u001B[0m     response \u001B[38;5;241m=\u001B[39m \u001B[43mconn\u001B[49m\u001B[38;5;241;43m.\u001B[39;49m\u001B[43mgetresponse\u001B[49m\u001B[43m(\u001B[49m\u001B[43m)\u001B[49m\n\u001B[0;32m    535\u001B[0m \u001B[38;5;28;01mexcept\u001B[39;00m (BaseSSLError, \u001B[38;5;167;01mOSError\u001B[39;00m) \u001B[38;5;28;01mas\u001B[39;00m e:\n\u001B[0;32m    536\u001B[0m     \u001B[38;5;28mself\u001B[39m\u001B[38;5;241m.\u001B[39m_raise_timeout(err\u001B[38;5;241m=\u001B[39me, url\u001B[38;5;241m=\u001B[39murl, timeout_value\u001B[38;5;241m=\u001B[39mread_timeout)\n",
      "File \u001B[1;32m~\\AppData\\Local\\Packages\\PythonSoftwareFoundation.Python.3.9_qbz5n2kfra8p0\\LocalCache\\local-packages\\Python39\\site-packages\\urllib3\\connection.py:565\u001B[0m, in \u001B[0;36mHTTPConnection.getresponse\u001B[1;34m(self)\u001B[0m\n\u001B[0;32m    562\u001B[0m _shutdown \u001B[38;5;241m=\u001B[39m \u001B[38;5;28mgetattr\u001B[39m(\u001B[38;5;28mself\u001B[39m\u001B[38;5;241m.\u001B[39msock, \u001B[38;5;124m\"\u001B[39m\u001B[38;5;124mshutdown\u001B[39m\u001B[38;5;124m\"\u001B[39m, \u001B[38;5;28;01mNone\u001B[39;00m)\n\u001B[0;32m    564\u001B[0m \u001B[38;5;66;03m# Get the response from http.client.HTTPConnection\u001B[39;00m\n\u001B[1;32m--> 565\u001B[0m httplib_response \u001B[38;5;241m=\u001B[39m \u001B[38;5;28;43msuper\u001B[39;49m\u001B[43m(\u001B[49m\u001B[43m)\u001B[49m\u001B[38;5;241;43m.\u001B[39;49m\u001B[43mgetresponse\u001B[49m\u001B[43m(\u001B[49m\u001B[43m)\u001B[49m\n\u001B[0;32m    567\u001B[0m \u001B[38;5;28;01mtry\u001B[39;00m:\n\u001B[0;32m    568\u001B[0m     assert_header_parsing(httplib_response\u001B[38;5;241m.\u001B[39mmsg)\n",
      "File \u001B[1;32mC:\\Program Files\\WindowsApps\\PythonSoftwareFoundation.Python.3.9_3.9.3568.0_x64__qbz5n2kfra8p0\\lib\\http\\client.py:1377\u001B[0m, in \u001B[0;36mHTTPConnection.getresponse\u001B[1;34m(self)\u001B[0m\n\u001B[0;32m   1375\u001B[0m \u001B[38;5;28;01mtry\u001B[39;00m:\n\u001B[0;32m   1376\u001B[0m     \u001B[38;5;28;01mtry\u001B[39;00m:\n\u001B[1;32m-> 1377\u001B[0m         \u001B[43mresponse\u001B[49m\u001B[38;5;241;43m.\u001B[39;49m\u001B[43mbegin\u001B[49m\u001B[43m(\u001B[49m\u001B[43m)\u001B[49m\n\u001B[0;32m   1378\u001B[0m     \u001B[38;5;28;01mexcept\u001B[39;00m \u001B[38;5;167;01mConnectionError\u001B[39;00m:\n\u001B[0;32m   1379\u001B[0m         \u001B[38;5;28mself\u001B[39m\u001B[38;5;241m.\u001B[39mclose()\n",
      "File \u001B[1;32mC:\\Program Files\\WindowsApps\\PythonSoftwareFoundation.Python.3.9_3.9.3568.0_x64__qbz5n2kfra8p0\\lib\\http\\client.py:320\u001B[0m, in \u001B[0;36mHTTPResponse.begin\u001B[1;34m(self)\u001B[0m\n\u001B[0;32m    318\u001B[0m \u001B[38;5;66;03m# read until we get a non-100 response\u001B[39;00m\n\u001B[0;32m    319\u001B[0m \u001B[38;5;28;01mwhile\u001B[39;00m \u001B[38;5;28;01mTrue\u001B[39;00m:\n\u001B[1;32m--> 320\u001B[0m     version, status, reason \u001B[38;5;241m=\u001B[39m \u001B[38;5;28;43mself\u001B[39;49m\u001B[38;5;241;43m.\u001B[39;49m\u001B[43m_read_status\u001B[49m\u001B[43m(\u001B[49m\u001B[43m)\u001B[49m\n\u001B[0;32m    321\u001B[0m     \u001B[38;5;28;01mif\u001B[39;00m status \u001B[38;5;241m!=\u001B[39m CONTINUE:\n\u001B[0;32m    322\u001B[0m         \u001B[38;5;28;01mbreak\u001B[39;00m\n",
      "File \u001B[1;32mC:\\Program Files\\WindowsApps\\PythonSoftwareFoundation.Python.3.9_3.9.3568.0_x64__qbz5n2kfra8p0\\lib\\http\\client.py:281\u001B[0m, in \u001B[0;36mHTTPResponse._read_status\u001B[1;34m(self)\u001B[0m\n\u001B[0;32m    280\u001B[0m \u001B[38;5;28;01mdef\u001B[39;00m\u001B[38;5;250m \u001B[39m\u001B[38;5;21m_read_status\u001B[39m(\u001B[38;5;28mself\u001B[39m):\n\u001B[1;32m--> 281\u001B[0m     line \u001B[38;5;241m=\u001B[39m \u001B[38;5;28mstr\u001B[39m(\u001B[38;5;28;43mself\u001B[39;49m\u001B[38;5;241;43m.\u001B[39;49m\u001B[43mfp\u001B[49m\u001B[38;5;241;43m.\u001B[39;49m\u001B[43mreadline\u001B[49m\u001B[43m(\u001B[49m\u001B[43m_MAXLINE\u001B[49m\u001B[43m \u001B[49m\u001B[38;5;241;43m+\u001B[39;49m\u001B[43m \u001B[49m\u001B[38;5;241;43m1\u001B[39;49m\u001B[43m)\u001B[49m, \u001B[38;5;124m\"\u001B[39m\u001B[38;5;124miso-8859-1\u001B[39m\u001B[38;5;124m\"\u001B[39m)\n\u001B[0;32m    282\u001B[0m     \u001B[38;5;28;01mif\u001B[39;00m \u001B[38;5;28mlen\u001B[39m(line) \u001B[38;5;241m>\u001B[39m _MAXLINE:\n\u001B[0;32m    283\u001B[0m         \u001B[38;5;28;01mraise\u001B[39;00m LineTooLong(\u001B[38;5;124m\"\u001B[39m\u001B[38;5;124mstatus line\u001B[39m\u001B[38;5;124m\"\u001B[39m)\n",
      "File \u001B[1;32mC:\\Program Files\\WindowsApps\\PythonSoftwareFoundation.Python.3.9_3.9.3568.0_x64__qbz5n2kfra8p0\\lib\\socket.py:704\u001B[0m, in \u001B[0;36mSocketIO.readinto\u001B[1;34m(self, b)\u001B[0m\n\u001B[0;32m    702\u001B[0m \u001B[38;5;28;01mwhile\u001B[39;00m \u001B[38;5;28;01mTrue\u001B[39;00m:\n\u001B[0;32m    703\u001B[0m     \u001B[38;5;28;01mtry\u001B[39;00m:\n\u001B[1;32m--> 704\u001B[0m         \u001B[38;5;28;01mreturn\u001B[39;00m \u001B[38;5;28;43mself\u001B[39;49m\u001B[38;5;241;43m.\u001B[39;49m\u001B[43m_sock\u001B[49m\u001B[38;5;241;43m.\u001B[39;49m\u001B[43mrecv_into\u001B[49m\u001B[43m(\u001B[49m\u001B[43mb\u001B[49m\u001B[43m)\u001B[49m\n\u001B[0;32m    705\u001B[0m     \u001B[38;5;28;01mexcept\u001B[39;00m timeout:\n\u001B[0;32m    706\u001B[0m         \u001B[38;5;28mself\u001B[39m\u001B[38;5;241m.\u001B[39m_timeout_occurred \u001B[38;5;241m=\u001B[39m \u001B[38;5;28;01mTrue\u001B[39;00m\n",
      "File \u001B[1;32mC:\\Program Files\\WindowsApps\\PythonSoftwareFoundation.Python.3.9_3.9.3568.0_x64__qbz5n2kfra8p0\\lib\\ssl.py:1242\u001B[0m, in \u001B[0;36mSSLSocket.recv_into\u001B[1;34m(self, buffer, nbytes, flags)\u001B[0m\n\u001B[0;32m   1238\u001B[0m     \u001B[38;5;28;01mif\u001B[39;00m flags \u001B[38;5;241m!=\u001B[39m \u001B[38;5;241m0\u001B[39m:\n\u001B[0;32m   1239\u001B[0m         \u001B[38;5;28;01mraise\u001B[39;00m \u001B[38;5;167;01mValueError\u001B[39;00m(\n\u001B[0;32m   1240\u001B[0m           \u001B[38;5;124m\"\u001B[39m\u001B[38;5;124mnon-zero flags not allowed in calls to recv_into() on \u001B[39m\u001B[38;5;132;01m%s\u001B[39;00m\u001B[38;5;124m\"\u001B[39m \u001B[38;5;241m%\u001B[39m\n\u001B[0;32m   1241\u001B[0m           \u001B[38;5;28mself\u001B[39m\u001B[38;5;241m.\u001B[39m\u001B[38;5;18m__class__\u001B[39m)\n\u001B[1;32m-> 1242\u001B[0m     \u001B[38;5;28;01mreturn\u001B[39;00m \u001B[38;5;28;43mself\u001B[39;49m\u001B[38;5;241;43m.\u001B[39;49m\u001B[43mread\u001B[49m\u001B[43m(\u001B[49m\u001B[43mnbytes\u001B[49m\u001B[43m,\u001B[49m\u001B[43m \u001B[49m\u001B[43mbuffer\u001B[49m\u001B[43m)\u001B[49m\n\u001B[0;32m   1243\u001B[0m \u001B[38;5;28;01melse\u001B[39;00m:\n\u001B[0;32m   1244\u001B[0m     \u001B[38;5;28;01mreturn\u001B[39;00m \u001B[38;5;28msuper\u001B[39m()\u001B[38;5;241m.\u001B[39mrecv_into(buffer, nbytes, flags)\n",
      "File \u001B[1;32mC:\\Program Files\\WindowsApps\\PythonSoftwareFoundation.Python.3.9_3.9.3568.0_x64__qbz5n2kfra8p0\\lib\\ssl.py:1100\u001B[0m, in \u001B[0;36mSSLSocket.read\u001B[1;34m(self, len, buffer)\u001B[0m\n\u001B[0;32m   1098\u001B[0m \u001B[38;5;28;01mtry\u001B[39;00m:\n\u001B[0;32m   1099\u001B[0m     \u001B[38;5;28;01mif\u001B[39;00m buffer \u001B[38;5;129;01mis\u001B[39;00m \u001B[38;5;129;01mnot\u001B[39;00m \u001B[38;5;28;01mNone\u001B[39;00m:\n\u001B[1;32m-> 1100\u001B[0m         \u001B[38;5;28;01mreturn\u001B[39;00m \u001B[38;5;28;43mself\u001B[39;49m\u001B[38;5;241;43m.\u001B[39;49m\u001B[43m_sslobj\u001B[49m\u001B[38;5;241;43m.\u001B[39;49m\u001B[43mread\u001B[49m\u001B[43m(\u001B[49m\u001B[38;5;28;43mlen\u001B[39;49m\u001B[43m,\u001B[49m\u001B[43m \u001B[49m\u001B[43mbuffer\u001B[49m\u001B[43m)\u001B[49m\n\u001B[0;32m   1101\u001B[0m     \u001B[38;5;28;01melse\u001B[39;00m:\n\u001B[0;32m   1102\u001B[0m         \u001B[38;5;28;01mreturn\u001B[39;00m \u001B[38;5;28mself\u001B[39m\u001B[38;5;241m.\u001B[39m_sslobj\u001B[38;5;241m.\u001B[39mread(\u001B[38;5;28mlen\u001B[39m)\n",
      "\u001B[1;31mKeyboardInterrupt\u001B[0m: "
     ]
    }
   ],
   "execution_count": 46
  },
  {
   "metadata": {
    "ExecuteTime": {
     "end_time": "2025-08-25T18:36:29.559280500Z",
     "start_time": "2025-08-23T18:32:48.130347Z"
    }
   },
   "cell_type": "code",
   "source": [
    "metrics = get_album_popularity_metrics(\"37ddKI6C7HW9O1gX1gI0ei\")\n",
    "\n",
    "print(metrics)"
   ],
   "id": "ce6ec55ddb451cfd",
   "outputs": [
    {
     "name": "stdout",
     "output_type": "stream",
     "text": [
      "{'album_popularity': 22, 'avg_track_popularity': 14.4, 'sum_track_popularity': 144, 'n_tracks': 10}\n"
     ]
    }
   ],
   "execution_count": 123
  },
  {
   "metadata": {
    "ExecuteTime": {
     "end_time": "2025-08-25T18:36:29.561223400Z",
     "start_time": "2025-08-23T18:27:29.926174Z"
    }
   },
   "cell_type": "code",
   "source": [
    "row = tuples[539]\n",
    "tconst, title, year, revenue = row.imdb_id, row.title, datetime.date.fromisoformat(row.release_date).year, float(row.revenue)\n",
    "result = process_movie(tconst, title, year, revenue)\n",
    "print(result)"
   ],
   "id": "73eaff82fbbb5155",
   "outputs": [
    {
     "name": "stdout",
     "output_type": "stream",
     "text": [
      "{'tconst': 'tt1398426', 'title': 'Straight Outta Compton', 'year': 2015, 'revenue': 201634991.0, 'spotify_album_id': '1rMnLDmzyEBRiCj7yoGK2n', 'spotify_album_name': 'Straight Outta Compton (Music From The Motion Picture)', 'spotify_album_year': 2016, 'match_score': 127.0, 'album_popularity': 41, 'avg_track_popularity': 23.705882352941178, 'sum_track_popularity': 403, 'n_tracks': 17}\n"
     ]
    }
   ],
   "execution_count": 119
  },
  {
   "metadata": {
    "ExecuteTime": {
     "end_time": "2025-08-27T10:33:37.434193Z",
     "start_time": "2025-08-27T10:17:49.479492Z"
    }
   },
   "cell_type": "code",
   "source": [
    "df = pd.read_csv(\"..\\\\data\\\\clean_tmdb.csv\")\n",
    "print(\"Loaded clean_tmdb.csv with shape:\", df.shape)\n",
    "\n",
    "df = df[(df['revenue'] > 0) & (df['release_date'].notna()) & (df['imdb_id'].notna()) & (df['title'].notna())]\n",
    "df = df[df['release_date'].apply(lambda x: datetime.date.fromisoformat(x).year if pd.notna(x) else None) >= 1990]\n",
    "df = df[df['original_language'] == 'en']\n",
    "df = df[(df['vote_average'] < 7.0) & (df['vote_count'] >= 2000)]\n",
    "df = df[['imdb_id', 'title', 'release_date', 'revenue']]\n",
    "\n",
    "print(\"Filtered DataFrame shape:\", df.shape)\n",
    "\n",
    "results = []\n",
    "tuples = list(df.itertuples(index=False))\n",
    "from tqdm import tqdm\n",
    "for row in tqdm(tuples[:500]):\n",
    "    tconst, title, year, revenue = row.imdb_id, row.title, datetime.date.fromisoformat(row.release_date).year, float(row.revenue)\n",
    "    result = process_movie(tconst, title, year, revenue)\n",
    "    results.append(result)\n",
    "\n",
    "results_df = pd.DataFrame(results)\n",
    "print(results_df.head())\n",
    "results_df.to_csv(\"..\\\\data\\\\reel_hits_small.csv\", index=False)"
   ],
   "id": "ac603ab475cc15d",
   "outputs": [
    {
     "name": "stdout",
     "output_type": "stream",
     "text": [
      "Loaded clean_tmdb.csv with shape: (16013, 24)\n",
      "Filtered DataFrame shape: (1057, 4)\n"
     ]
    },
    {
     "name": "stderr",
     "output_type": "stream",
     "text": [
      "100%|██████████| 500/500 [15:47<00:00,  1.90s/it]"
     ]
    },
    {
     "name": "stdout",
     "output_type": "stream",
     "text": [
      "      tconst                               title  year       revenue  \\\n",
      "0  tt1300854                          Iron Man 3  2013  1.215577e+09   \n",
      "1  tt0458339  Captain America: The First Avenger  2011  3.705698e+08   \n",
      "2  tt1386697                       Suicide Squad  2016  7.468469e+08   \n",
      "3  tt0800369                                Thor  2011  4.493266e+08   \n",
      "4  tt1228705                          Iron Man 2  2010  6.239333e+08   \n",
      "\n",
      "         spotify_album_id                               spotify_album_name  \\\n",
      "0  7x6etI9jQ2ePxZUOQaPrbi  Iron Man 3 (Original Motion Picture Soundtrack)   \n",
      "1  0La1Tskamjd6akysepE8r5               Captain America: The First Avenger   \n",
      "2  0C8fz2LJQotVr0SZNta8H6    Suicide Squad (Original Motion Picture Score)   \n",
      "3  3OCSaoAx2IdkeUtd4T5cuS                                         Thor OST   \n",
      "4  6bnGdcfwPDRSkj6H8GcbAh         Original Motion Picture Score Iron Man 2   \n",
      "\n",
      "   spotify_album_year  match_score  album_popularity  avg_track_popularity  \\\n",
      "0                2013        127.0                45             23.400000   \n",
      "1                2011        112.0                41             21.115385   \n",
      "2                2016        127.0                18              5.333333   \n",
      "3                2011        127.0                22              8.000000   \n",
      "4                2010        127.0                30             14.640000   \n",
      "\n",
      "   sum_track_popularity  n_tracks  album_length_ms  album_length_min  \\\n",
      "0                   468        20          4547046         75.784100   \n",
      "1                   549        26          4281365         71.356083   \n",
      "2                   160        30          5628819         93.813650   \n",
      "3                   192        24          4323991         72.066517   \n",
      "4                   366        25          4334539         72.242317   \n",
      "\n",
      "                                 album_artists  \n",
      "0                                {Brian Tyler}  \n",
      "1  {Alan Silvestri, The Star Spangled Singers}  \n",
      "2                               {Steven Price}  \n",
      "3                              {Patrick Doyle}  \n",
      "4        {The Stark Expo Singers, John Debney}  \n"
     ]
    },
    {
     "name": "stderr",
     "output_type": "stream",
     "text": [
      "\n"
     ]
    }
   ],
   "execution_count": 47
  },
  {
   "metadata": {},
   "cell_type": "code",
   "outputs": [],
   "execution_count": null,
   "source": [
    "df = pd.read_csv(\"..\\\\data\\\\clean_tmdb.csv\")\n",
    "print(\"Loaded clean_tmdb.csv with shape:\", df.shape)\n",
    "\n",
    "df = df[(df['revenue'] > 0) & (df['release_date'].notna()) & (df['imdb_id'].notna()) & (df['title'].notna())]\n",
    "df = df[df['release_date'].apply(lambda x: datetime.date.fromisoformat(x).year if pd.notna(x) else None) >= 1990]\n",
    "df = df[df['original_language'] == 'en']\n",
    "df = df[(df['vote_average'] < 7.0) & (df['vote_count'] >= 2000)]\n",
    "df = df[['imdb_id', 'title', 'release_date', 'revenue']]\n",
    "\n",
    "print(\"Filtered DataFrame shape:\", df.shape)\n",
    "\n",
    "results = []\n",
    "tuples = list(df.itertuples(index=False))"
   ],
   "id": "23735026f7476e9f"
  },
  {
   "metadata": {
    "ExecuteTime": {
     "end_time": "2025-08-27T15:26:47.146824Z",
     "start_time": "2025-08-27T15:26:45.373041Z"
    }
   },
   "cell_type": "code",
   "source": [
    "row = tuples[546]\n",
    "tconst, title, year, revenue = row.imdb_id, row.title, datetime.date.fromisoformat(row.release_date).year, float(row.revenue)\n",
    "result = process_movie(tconst, title, year, revenue)\n",
    "print(result)"
   ],
   "id": "ba0551ca24c5bbda",
   "outputs": [
    {
     "name": "stdout",
     "output_type": "stream",
     "text": [
      "{'tconst': 'tt1071875', 'title': 'Ghost Rider: Spirit of Vengeance', 'year': 2011, 'revenue': 132563930.0, 'spotify_album_id': '2si4shX0mUKYLP3Radt20j', 'spotify_album_name': 'Ghost Rider: Spirit of Vengeance (Original Motion Picture Score)', 'spotify_album_year': 2012, 'match_score': 127.0, 'album_popularity': 20, 'avg_track_popularity': 4.7073170731707314, 'sum_track_popularity': 193, 'n_tracks': 41, 'album_length_ms': 4296772, 'album_length_min': 71.61286666666666, 'album_artists': {'David Sardy'}}\n"
     ]
    }
   ],
   "execution_count": 197
  },
  {
   "metadata": {
    "ExecuteTime": {
     "end_time": "2025-08-27T16:55:13.662691Z",
     "start_time": "2025-08-27T16:55:13.075079Z"
    }
   },
   "cell_type": "code",
   "source": [
    "ALBUM_ID = \"0yrK3jKRexjtP4CRdYizjs\"\n",
    "metrics = get_album_popularity_metrics(ALBUM_ID)\n",
    "\n",
    "print(sp.album(ALBUM_ID)['name'])\n",
    "print(metrics)"
   ],
   "id": "349a51c79b6267d6",
   "outputs": [
    {
     "name": "stdout",
     "output_type": "stream",
     "text": [
      "Kill Bill Vol. 2 Original Soundtrack\n",
      "{'album_popularity': 44, 'avg_track_popularity': 28.933333333333334, 'sum_track_popularity': 434, 'n_tracks': 15, 'album_length_ms': 2776501, 'album_length_min': 46.275016666666666, 'album_artists': {'Shivaree', 'Johnny Cash', 'David Carradine', 'Uma Thurman', 'Lole Y Manuel', 'Malcolm McLaren', 'Meiko Kaji', 'Ennio Morricone', 'Alan Reeves', 'Phil Steele', 'Luis Bacalov', 'Philip Brigham', 'Chingon', 'Charlie Feathers'}}\n"
     ]
    }
   ],
   "execution_count": 205
  },
  {
   "metadata": {
    "ExecuteTime": {
     "end_time": "2025-08-27T15:53:05.258376Z",
     "start_time": "2025-08-27T15:53:05.189039Z"
    }
   },
   "cell_type": "code",
   "source": [
    "# Add reel_hits_small and reel_hits_big to create reel_hits\n",
    "df_small = pd.read_csv(\"..\\\\data\\\\reel_hits_small.csv\")\n",
    "\n",
    "print(\"Small DataFrame shape:\", df_small.shape)\n",
    "\n",
    "df_big = pd.read_csv(\"..\\\\data\\\\reel_hits_big.csv\")\n",
    "\n",
    "print(\"Big DataFrame shape:\", df_big.shape)\n",
    "\n",
    "df_reel_hits = pd.concat([df_small, df_big], ignore_index=True)\n",
    "print(\"Combined DataFrame shape:\", df_reel_hits.shape)\n",
    "\n",
    "df_reel_hits.to_csv(\"..\\\\data\\\\reel_hits.csv\", index=False)\n"
   ],
   "id": "376962a84b445691",
   "outputs": [
    {
     "name": "stdout",
     "output_type": "stream",
     "text": [
      "Small DataFrame shape: (500, 15)\n",
      "Big DataFrame shape: (500, 15)\n",
      "Combined DataFrame shape: (1000, 15)\n"
     ]
    }
   ],
   "execution_count": 203
  }
 ],
 "metadata": {
  "kernelspec": {
   "name": "python3",
   "language": "python",
   "display_name": "Python 3 (ipykernel)"
  }
 },
 "nbformat": 4,
 "nbformat_minor": 5
}
